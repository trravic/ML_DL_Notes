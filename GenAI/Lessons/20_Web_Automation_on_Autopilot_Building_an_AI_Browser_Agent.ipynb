{
  "nbformat": 4,
  "nbformat_minor": 0,
  "metadata": {
    "colab": {
      "provenance": []
    },
    "kernelspec": {
      "name": "python3",
      "display_name": "Python 3"
    },
    "language_info": {
      "name": "python"
    }
  },
  "cells": [
    {
      "cell_type": "markdown",
      "source": [
        "The primary goal in web automation has always been to create tools that don't break when websites change.\n",
        "\n",
        "Foundational frameworks, with Selenium being the most notable, work by following direct commands. A developer writes a script with explicit, step-by-step instructions for the browser to follow. For example, a command might be, \"find an element using its specific XPath or CSS selector,\" followed by another command to \"click on it\" or \"type into it.\"\n",
        "\n",
        "The fundamental weakness of this method is its brittleness. Websites are dynamic; their underlying code structure, the Document Object Model (DOM), is frequently updated by developers. Even a minor code change, like altering an element's ID or adjusting the page layout, can cause the script's selector to fail.\n",
        "\n",
        "Once a selector breaks, the script cannot find its target element, and the entire automated process grinds to a halt. This creates a high maintenance burden, as scripts must be constantly fixed to keep up with website updates."
      ],
      "metadata": {
        "id": "CydC02-rpf3t"
      }
    },
    {
      "cell_type": "markdown",
      "source": [
        "What if you could give a brain to your browser?"
      ],
      "metadata": {
        "id": "XIInBCL1o9Qn"
      }
    },
    {
      "cell_type": "markdown",
      "source": [
        "# **Browser Agents**"
      ],
      "metadata": {
        "id": "8c2PPsZMpCyh"
      }
    },
    {
      "cell_type": "markdown",
      "source": [
        "An AI browser agent is a software program enhanced with artificial intelligence that can perform web-based tasks autonomously, much like a human user would. These agents operate within a web browser, using LLMs, and computer vision to interact with websites in a way that mimics human behavior.\n",
        "\n",
        "Instead of following a rigid, pre-written script like traditional automation tools, an AI browser agent is given a high-level goal in natural language, such as \"Find the top tech articles today\" or \"Book the cheapest flight to New York\". The agent then independently plans and executes the steps needed to achieve that goal.\n",
        "\n"
      ],
      "metadata": {
        "id": "4Igkp9ZFq9Lq"
      }
    },
    {
      "cell_type": "markdown",
      "source": [
        "## **How AI Browser Agents Work**\n",
        "\n",
        "An AI browser agent's architecture allows it to perceive, reason, and act within a web environment:\n",
        "*   **Perception (The \"Eyes\")** The agent \"sees\" a webpage using a combination of methods. It analyzes the structural data, like the HTML or Document Object Model (DOM), to understand the page's layout and identify interactive elements. It also uses computer vision to analyze screenshots, allowing it to identify elements based on their appearance, just as a person would. This dual approach makes it more resilient to website changes.\n",
        "\n",
        "*   **Reasoning (The \"Brain\")** At its core is a Large Language Model (LLM), like GPT-4, which acts as the decision-making engine. The LLM interprets the user's goal, analyzes the data from the perception layer, and breaks the task down into a sequence of actions.\n",
        "\n",
        "*   **Actuation (The \"Hands\")** To perform actions like clicking, typing, and scrolling, the agent uses an underlying browser automation framework, such as Playwright or Selenium. The LLM decides *what* to do, and the framework executes *how* to do it.\n",
        "\n",
        "This process repeats in an \"observe-decide-act\" loop until the task is complete.\n",
        "\n"
      ],
      "metadata": {
        "id": "O8dLv23Ast2_"
      }
    },
    {
      "cell_type": "markdown",
      "source": [
        "## **Key Capabilities and Use Cases**\n",
        "\n",
        "AI browser agents are designed to handle dynamic and complex web interactions. Their primary functions include:\n",
        "*   **Web Scraping and Data Extraction** They can navigate multiple pages to extract and structure information, such as product details or contact lists.\n",
        "*   **Form Filling and Submission** Agents can intelligently fill out complex forms for tasks like signing up for services, applying for jobs, or getting insurance quotes.\n",
        "*   **Cross-Application Workflows** They can automate tasks that span multiple websites, such as taking a new follower from LinkedIn and adding them as a lead in Salesforce.\n",
        "*   **Complex Research** An agent can be tasked with open-ended research, like reading a CV, finding relevant jobs online, and saving them to a file."
      ],
      "metadata": {
        "id": "gEuxaNAjsxOo"
      }
    },
    {
      "cell_type": "markdown",
      "source": [
        "# DON'T TRY TO RUN BROWSER-USE IN GOOGLE COLAB"
      ],
      "metadata": {
        "id": "gQTCb5HRqGgM"
      }
    },
    {
      "cell_type": "code",
      "source": [],
      "metadata": {
        "id": "jo6a1NN2qGKh"
      },
      "execution_count": null,
      "outputs": []
    },
    {
      "cell_type": "markdown",
      "source": [
        "## Installation\n",
        "```python\n",
        "pip install playwright && playwright install chromium --with-deps\n",
        "pip install browser-use\n",
        "```"
      ],
      "metadata": {
        "id": "yXPytencySeX"
      }
    },
    {
      "cell_type": "markdown",
      "source": [
        "## Setup your LLM\n",
        "\n",
        "Create a .env file and add your API key. Start with a [free Gemini key](https://aistudio.google.com/app/u/1/apikey?pli=1).\n",
        "\n",
        "```bash\n",
        "touch .env\n",
        "```\n",
        "\n",
        "Add your key to .env file\n",
        "\n",
        "\n",
        "```bash\n",
        "GEMINI_API_KEY=\n",
        "```"
      ],
      "metadata": {
        "id": "FsO3rTlFydEe"
      }
    },
    {
      "cell_type": "markdown",
      "source": [
        "## Run your first browser agent\n",
        "\n",
        "```python\n",
        "from browser_use import Agent, ChatGoogle\n",
        "from dotenv import load_dotenv\n",
        "import asyncio\n",
        "\n",
        "load_dotenv()\n",
        "\n",
        "async def main():\n",
        "    llm = ChatGoogle(model=\"gemini-2.5-flash\")\n",
        "    task = \"Find the number 1 post on Show HN\"\n",
        "    agent = Agent(task=task, llm=llm)\n",
        "    history = await agent.run()\n",
        "\n",
        "if __name__ == \"__main__\":\n",
        "    asyncio.run(main())\n",
        "```"
      ],
      "metadata": {
        "id": "pOffS8HKy3mF"
      }
    },
    {
      "cell_type": "markdown",
      "source": [
        "# Output Format\n",
        "\n",
        "## Agent History\n",
        "\n",
        "The `run()` method returns an `AgentHistoryList` object with the complete execution history:\n",
        "\n",
        "```python\n",
        "history = await agent.run()\n",
        "\n",
        "# Access useful information\n",
        "history.urls()                    # List of visited URLs\n",
        "history.screenshot_paths()        # List of screenshot paths  \n",
        "history.screenshots()             # List of screenshots as base64 strings\n",
        "history.action_names()            # Names of executed actions\n",
        "history.extracted_content()       # List of extracted content from all actions\n",
        "history.errors()                  # List of errors (with None for steps without errors)\n",
        "history.model_actions()           # All actions with their parameters\n",
        "history.model_outputs()           # All model outputs from history\n",
        "history.last_action()             # Last action in history\n",
        "\n",
        "# Analysis methods\n",
        "history.final_result()            # Get the final extracted content (last step)\n",
        "history.is_done()                 # Check if agent completed successfully\n",
        "history.is_successful()           # Check if agent completed successfully (returns None if not done)\n",
        "history.has_errors()              # Check if any errors occurred\n",
        "history.model_thoughts()          # Get the agent's reasoning process (AgentBrain objects)\n",
        "history.action_results()          # Get all ActionResult objects from history\n",
        "history.action_history()          # Get truncated action history with essential fields\n",
        "history.number_of_steps()         # Get the number of steps in the history\n",
        "history.total_duration_seconds()  # Get total duration of all steps in seconds\n",
        "\n",
        "# Structured output (when using output_model_schema)\n",
        "history.structured_output         # Property that returns parsed structured output\n",
        "```"
      ],
      "metadata": {
        "id": "scmfAEIqzrpR"
      }
    },
    {
      "cell_type": "markdown",
      "source": [
        "# Web-UI: Easiest Way to Use Browser-Use"
      ],
      "metadata": {
        "id": "QugiyGuTZVOO"
      }
    },
    {
      "cell_type": "markdown",
      "source": [
        "Clone the repository:\n",
        "```bash\n",
        "git clone https://github.com/browser-use/web-ui.git\n",
        "```"
      ],
      "metadata": {
        "id": "jOG_hMa-Zd0K"
      }
    },
    {
      "cell_type": "markdown",
      "source": [
        "Navigate into the directory:\n",
        "```bash\n",
        "cd web-ui\n",
        "```"
      ],
      "metadata": {
        "id": "WU_1N3GtZoi4"
      }
    },
    {
      "cell_type": "markdown",
      "source": [
        "Create the environment file (web-ui already provides you with a sample environment file):\n",
        "```bash\n",
        "cp .env.example .env\n",
        "```\n",
        "\n",
        "Open the newly created `.env` file in a text editor and add your API keys (like `GOOGLE_API_KEY`). You can also configure other settings as needed."
      ],
      "metadata": {
        "id": "L0p4gumXZ5Q8"
      }
    },
    {
      "cell_type": "markdown",
      "source": [
        "https://www.geeksforgeeks.org/devops/docker-tutorial/"
      ],
      "metadata": {
        "id": "P3vRb0HALSYJ"
      }
    },
    {
      "cell_type": "markdown",
      "source": [
        "Build the Docker Image:\n",
        "```bash\n",
        "docker build -t browser-use-webui .\n",
        "```"
      ],
      "metadata": {
        "id": "feGbTsxFaQ71"
      }
    },
    {
      "cell_type": "markdown",
      "source": [
        "Run the docker container (intel):\n",
        "```bash\n",
        "docker run -d --rm \\\n",
        "  -p 7788:7788 \\\n",
        "  -p 6080:6080 \\\n",
        "  --env-file .env \\\n",
        "  --name browser-use-container \\\n",
        "  browser-use-webui\n",
        "```"
      ],
      "metadata": {
        "id": "I3WAyLQXa_sx"
      }
    },
    {
      "cell_type": "markdown",
      "source": [
        "Run the docker container (arm/apple silicon):\n",
        "\n",
        "```bash\n",
        "docker run -d --rm \\\n",
        "  --platform linux/arm64 \\\n",
        "  -p 7788:7788 \\\n",
        "  -p 6080:6080 \\\n",
        "  --env-file .env \\\n",
        "  --name browser-use-container \\\n",
        "  browser-use-webui\n",
        "```"
      ],
      "metadata": {
        "id": "aEvYu_fgbHUd"
      }
    },
    {
      "cell_type": "markdown",
      "source": [
        "Explanation of the `docker run` flags:\n",
        "\n",
        "  * `-d`: Detached mode. Runs the container in the background.\n",
        "  * `--rm`: Automatically removes the container when it exits.\n",
        "  * `-p 7788:7788`: Maps port `7788` on your local machine to port `7788` inside the container for the Web UI.\n",
        "  * `-p 6080:6080`: Maps port `6080` on your local machine to port `6080` inside the container for the noVNC browser viewer.\n",
        "  * `--env-file .env`: Loads the environment variables from your `.env` file into the container.\n",
        "  * `--name browser-use-container`: Assigns a name to your running container for easy management.\n",
        "  * `browser-use-webui`: The name of the image you want to run."
      ],
      "metadata": {
        "id": "u6W_ixK7bfxS"
      }
    },
    {
      "cell_type": "markdown",
      "source": [
        "\n",
        "\n",
        "Access the Services:\n",
        "\n",
        "After running the command, the services will be available at the following URLs on your local machine:\n",
        "\n",
        "  * **Web-UI:** [http://localhost:7788](https://www.google.com/search?q=http://localhost:7788)\n",
        "  * **VNC Viewer (to see the browser):** [http://localhost:6080/vnc.html](https://www.google.com/search?q=http://localhost:6080/vnc.html)"
      ],
      "metadata": {
        "id": "vKOubGm5bWTF"
      }
    },
    {
      "cell_type": "markdown",
      "source": [
        "\n",
        "> Find me the most recent remote data scientist entry levels in India\n",
        "\n"
      ],
      "metadata": {
        "id": "-xmfLxAbKv4r"
      }
    },
    {
      "cell_type": "markdown",
      "source": [
        "# Examples"
      ],
      "metadata": {
        "id": "E9w4bG4x0yKX"
      }
    },
    {
      "cell_type": "markdown",
      "source": [
        "## Basic Search"
      ],
      "metadata": {
        "id": "s8yA0lOH00Ai"
      }
    },
    {
      "cell_type": "markdown",
      "source": [
        "```python\n",
        "import asyncio\n",
        "import os\n",
        "import sys\n",
        "\n",
        "from dotenv import load_dotenv\n",
        "\n",
        "load_dotenv()\n",
        "\n",
        "from browser_use import Agent, ChatGoogleGenerativeAI\n",
        "\n",
        "\n",
        "async def main():\n",
        "\t# Instantiate the Google Gemini model\n",
        "\tllm = ChatGoogleGenerativeAI(model=\"gemini-pro\")\n",
        "\ttask = \"Search Google for 'what is browser automation' and tell me the top 3 results\"\n",
        "\tagent = Agent(task=task, llm=llm)\n",
        "\tawait agent.run()\n",
        "\n",
        "\n",
        "if __name__ == \"__main__\":\n",
        "\tasyncio.run(main())\n",
        "```"
      ],
      "metadata": {
        "id": "CoGaIYJcNJYW"
      }
    },
    {
      "cell_type": "markdown",
      "source": [
        "## Form Filling"
      ],
      "metadata": {
        "id": "QTiUi_EvOfpG"
      }
    },
    {
      "cell_type": "markdown",
      "source": [
        "```python\n",
        "import asyncio\n",
        "import os\n",
        "import sys\n",
        "\n",
        "from dotenv import load_dotenv\n",
        "\n",
        "load_dotenv()\n",
        "\n",
        "# Import the Google Gemini model class\n",
        "from browser_use import Agent, ChatGoogleGenerativeAI\n",
        "\n",
        "\n",
        "async def main():\n",
        "\t# Initialize the Gemini model\n",
        "\tllm = ChatGoogleGenerativeAI(model=\"gemini-pro\")\n",
        "\n",
        "\t# Define a form filling task\n",
        "\ttask = \"\"\"\n",
        "    Go to https://httpbin.org/forms/post and fill out the contact form with:\n",
        "    - Customer name: John Doe\n",
        "    - Telephone: 555-123-4567\n",
        "    - Email: john.doe@example.com\n",
        "    - Size: Medium\n",
        "    - Topping: cheese\n",
        "    - Delivery time: now\n",
        "    - Comments: This is a test form submission\n",
        "    \n",
        "    Then submit the form and tell me what response you get.\n",
        "    \"\"\"\n",
        "\n",
        "\t# Create and run the agent\n",
        "\tagent = Agent(task=task, llm=llm)\n",
        "\tawait agent.run()\n",
        "\n",
        "\n",
        "if __name__ == '__main__':\n",
        "\tasyncio.run(main())\n",
        "\n",
        "```"
      ],
      "metadata": {
        "id": "KJhLHxx4OhIq"
      }
    },
    {
      "cell_type": "markdown",
      "source": [
        "## Data Extraction"
      ],
      "metadata": {
        "id": "tKqHfU-XOTC4"
      }
    },
    {
      "cell_type": "markdown",
      "source": [
        "```python\n",
        "import asyncio\n",
        "import os\n",
        "import sys\n",
        "\n",
        "from dotenv import load_dotenv\n",
        "\n",
        "load_dotenv()\n",
        "\n",
        "# Import the Google Gemini model class\n",
        "from browser_use import Agent, ChatGoogleGenerativeAI\n",
        "\n",
        "\n",
        "async def main():\n",
        "\t# Initialize the Gemini model\n",
        "\tllm = ChatGoogleGenerativeAI(model=\"gemini-pro\")\n",
        "\n",
        "\t# Define a data extraction task\n",
        "\ttask = \"\"\"\n",
        "    Go to https://quotes.toscrape.com/ and extract the following information:\n",
        "    - The first 5 quotes on the page\n",
        "    - The author of each quote\n",
        "    - The tags associated with each quote\n",
        "    \n",
        "    Present the information in a clear, structured format like:\n",
        "    Quote 1: \"[quote text]\" - Author: [author name] - Tags: [tag1, tag2, ...]\n",
        "    Quote 2: \"[quote text]\" - Author: [author name] - Tags: [tag1, tag2, ...]\n",
        "    etc.\n",
        "    \"\"\"\n",
        "\n",
        "\t# Create and run the agent\n",
        "\tagent = Agent(task=task, llm=llm)\n",
        "\tawait agent.run()\n",
        "\n",
        "\n",
        "if __name__ == '__main__':\n",
        "\tasyncio.run(main())\n",
        "```"
      ],
      "metadata": {
        "id": "OU1NEJlYN_O4"
      }
    },
    {
      "cell_type": "markdown",
      "source": [
        "## Multi-Step Task List"
      ],
      "metadata": {
        "id": "Q4P9bBr8N7ub"
      }
    },
    {
      "cell_type": "markdown",
      "source": [
        "```python\n",
        "\n",
        "import asyncio\n",
        "import os\n",
        "import sys\n",
        "from pathlib import Path\n",
        "\n",
        "\n",
        "from dotenv import load_dotenv\n",
        "\n",
        "load_dotenv()\n",
        "\n",
        "# Import the Google Gemini model class\n",
        "from browser_use import Agent, ChatGoogleGenerativeAI\n",
        "\n",
        "\n",
        "async def main():\n",
        "\t# Initialize the Gemini model\n",
        "\tllm = ChatGoogleGenerativeAI(model=\"gemini-pro\")\n",
        "\n",
        "\t# Define a multi-step task\n",
        "\ttask = \"\"\"\n",
        "    I want you to research Python web scraping libraries. Here's what I need:\n",
        "    \n",
        "    1. First, search Google for \"best Python web scraping libraries 2025\"\n",
        "    2. Find a reputable article or blog post about this topic\n",
        "    3. From that article, extract the top 3 recommended libraries\n",
        "    4. For each library, visit its official website or GitHub page\n",
        "    5. Extract key information about each library:\n",
        "        - Name\n",
        "        - Brief description\n",
        "        - Main features or advantages\n",
        "        - GitHub stars (if available)\n",
        "    \n",
        "    Present your findings in a summary format comparing the three libraries.\n",
        "    \"\"\"\n",
        "\n",
        "\t# Create and run the agent\n",
        "\tagent = Agent(task=task, llm=llm)\n",
        "\tawait agent.run()\n",
        "\n",
        "\n",
        "if __name__ == '__main__':\n",
        "\tasyncio.run(main())\n",
        "```"
      ],
      "metadata": {
        "id": "QzpqFGDANfla"
      }
    },
    {
      "cell_type": "code",
      "execution_count": null,
      "metadata": {
        "id": "KHWkEqTRY8N2"
      },
      "outputs": [],
      "source": []
    },
    {
      "cell_type": "markdown",
      "source": [
        "# Run Basic Search example in your local machine, and provide history.urls()"
      ],
      "metadata": {
        "id": "rjmfcCIK0Lau"
      }
    }
  ]
}