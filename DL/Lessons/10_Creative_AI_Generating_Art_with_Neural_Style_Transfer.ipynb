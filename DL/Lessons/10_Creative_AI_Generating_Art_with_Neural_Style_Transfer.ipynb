{
  "nbformat": 4,
  "nbformat_minor": 0,
  "metadata": {
    "colab": {
      "provenance": []
    },
    "kernelspec": {
      "name": "python3",
      "display_name": "Python 3"
    },
    "language_info": {
      "name": "python"
    }
  },
  "cells": [
    {
      "cell_type": "markdown",
      "source": [
        "# Important Links\n",
        "\n",
        "GAN for Face Generator: https://github.com/AshishJangra27/Face-Generator-with-GAN\n",
        "\n",
        "Gender Style Transfer: https://github.com/AshishJangra27/Gender-Style-Transfer\n",
        "\n",
        "Gender Classifier: https://github.com/AshishJangra27/Gender-Classifier\n",
        "\n",
        "LinkedIn: https://www.linkedin.com/in/ashish-jangra/"
      ],
      "metadata": {
        "id": "XtFPU-gahtwS"
      }
    },
    {
      "cell_type": "markdown",
      "source": [
        "Assignment:\n",
        "\n",
        "- Load the pretrainde Generator\n",
        "- Load Gender Vector\n",
        "- Generate 10 variations of the image from male to female as per gender vector"
      ],
      "metadata": {
        "id": "RG5tYl3Gh98h"
      }
    }
  ]
}