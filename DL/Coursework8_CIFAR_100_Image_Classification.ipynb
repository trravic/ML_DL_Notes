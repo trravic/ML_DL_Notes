{
  "nbformat": 4,
  "nbformat_minor": 0,
  "metadata": {
    "colab": {
      "provenance": [],
      "gpuType": "T4"
    },
    "kernelspec": {
      "name": "python3",
      "display_name": "Python 3"
    },
    "language_info": {
      "name": "python"
    },
    "accelerator": "GPU"
  },
  "cells": [
    {
      "cell_type": "markdown",
      "source": [
        "## Assignment: CIFAR-100 Image Classification\n",
        "Your task is to apply the concepts and techniques learned in this Fashion-MNIST project to the CIFAR-100 dataset. CIFAR-100 is a dataset consisting of 60,000 32x32 color images in 100 classes, with 600 images per class. There are 50,000 training images and 10,000 test images."
      ],
      "metadata": {
        "id": "y1oo341_dFri"
      }
    },
    {
      "cell_type": "code",
      "execution_count": 47,
      "metadata": {
        "id": "iLGhdFb1cs9G"
      },
      "outputs": [],
      "source": [
        "import numpy as np\n",
        "import pandas as pd\n",
        "import tensorflow as tf\n",
        "from tensorflow import keras\n",
        "import matplotlib.pyplot as plt\n",
        "\n",
        "import plotly.graph_objects as go\n",
        "from plotly.subplots import make_subplots"
      ]
    },
    {
      "cell_type": "markdown",
      "source": [
        "1.  **Dataset Setup:**\n",
        "    *   Load the CIFAR-100 dataset.\n",
        "    *   Preprocess the data (normalize pixel values, one-hot encode labels). Remember that CIFAR-100 images are 32x32 color images, so the input shape will be different from Fashion-MNIST.\n",
        "    *   Verify the shapes of the processed data."
      ],
      "metadata": {
        "id": "L4638VXwdNvY"
      }
    },
    {
      "cell_type": "code",
      "source": [
        "# 1. Load the CIFAR-100 dataset\n",
        "print(\"Loading CIFAR-100 dataset...\")\n",
        "(x_train, y_train), (x_test, y_test) = keras.datasets.cifar100.load_data()"
      ],
      "metadata": {
        "colab": {
          "base_uri": "https://localhost:8080/"
        },
        "id": "i13JZqJ3dOBu",
        "outputId": "8d8c9f0f-2895-46e4-e251-2b83956a5c72"
      },
      "execution_count": 48,
      "outputs": [
        {
          "output_type": "stream",
          "name": "stdout",
          "text": [
            "Loading CIFAR-100 dataset...\n"
          ]
        }
      ]
    },
    {
      "cell_type": "code",
      "source": [
        "print(f\"Training data shape: {x_train.shape}\")\n",
        "print(f\"Training labels shape: {y_train.shape}\")\n",
        "print(f\"Test data shape: {x_test.shape}\")\n",
        "print(f\"Test labels shape: {y_test.shape}\")"
      ],
      "metadata": {
        "colab": {
          "base_uri": "https://localhost:8080/"
        },
        "id": "GVueeTgZeYpl",
        "outputId": "dc0f77a2-c1b0-4c9e-e289-45a46a9725d6"
      },
      "execution_count": 49,
      "outputs": [
        {
          "output_type": "stream",
          "name": "stdout",
          "text": [
            "Training data shape: (50000, 32, 32, 3)\n",
            "Training labels shape: (50000, 1)\n",
            "Test data shape: (10000, 32, 32, 3)\n",
            "Test labels shape: (10000, 1)\n"
          ]
        }
      ]
    },
    {
      "cell_type": "code",
      "source": [
        "\n",
        "print(f\"\\nData types:\")\n",
        "print(f\"Images: {x_train.dtype}\")\n",
        "print(f\"Labels: {y_train.dtype}\")\n",
        "print(f\"Pixel value range: {x_train.min()} - {x_train.max()}\")"
      ],
      "metadata": {
        "colab": {
          "base_uri": "https://localhost:8080/"
        },
        "id": "R5gOfbM5e9Qf",
        "outputId": "413d91c4-d2e0-410a-d0e2-9663e8ccae48"
      },
      "execution_count": 50,
      "outputs": [
        {
          "output_type": "stream",
          "name": "stdout",
          "text": [
            "\n",
            "Data types:\n",
            "Images: uint8\n",
            "Labels: int64\n",
            "Pixel value range: 0 - 255\n"
          ]
        }
      ]
    },
    {
      "cell_type": "code",
      "source": [
        "x_train[0]"
      ],
      "metadata": {
        "colab": {
          "base_uri": "https://localhost:8080/",
          "height": 72
        },
        "id": "7If5bWdqggL_",
        "outputId": "add8b723-3cd0-41a0-d79f-63039b72f643"
      },
      "execution_count": 51,
      "outputs": [
        {
          "output_type": "execute_result",
          "data": {
            "text/plain": [
              "array([[[255, 255, 255],\n",
              "        [255, 255, 255],\n",
              "        [255, 255, 255],\n",
              "        ...,\n",
              "        [195, 205, 193],\n",
              "        [212, 224, 204],\n",
              "        [182, 194, 167]],\n",
              "\n",
              "       [[255, 255, 255],\n",
              "        [254, 254, 254],\n",
              "        [254, 254, 254],\n",
              "        ...,\n",
              "        [170, 176, 150],\n",
              "        [161, 168, 130],\n",
              "        [146, 154, 113]],\n",
              "\n",
              "       [[255, 255, 255],\n",
              "        [254, 254, 254],\n",
              "        [255, 255, 255],\n",
              "        ...,\n",
              "        [189, 199, 169],\n",
              "        [166, 178, 130],\n",
              "        [121, 133,  87]],\n",
              "\n",
              "       ...,\n",
              "\n",
              "       [[148, 185,  79],\n",
              "        [142, 182,  57],\n",
              "        [140, 179,  60],\n",
              "        ...,\n",
              "        [ 30,  17,   1],\n",
              "        [ 65,  62,  15],\n",
              "        [ 76,  77,  20]],\n",
              "\n",
              "       [[122, 157,  66],\n",
              "        [120, 155,  58],\n",
              "        [126, 160,  71],\n",
              "        ...,\n",
              "        [ 22,  16,   3],\n",
              "        [ 97, 112,  56],\n",
              "        [141, 161,  87]],\n",
              "\n",
              "       [[ 87, 122,  41],\n",
              "        [ 88, 122,  39],\n",
              "        [101, 134,  56],\n",
              "        ...,\n",
              "        [ 34,  36,  10],\n",
              "        [105, 133,  59],\n",
              "        [138, 173,  79]]], dtype=uint8)"
            ],
            "text/html": [
              "<style>\n",
              "      .ndarray_repr .ndarray_raw_data {\n",
              "        display: none;\n",
              "      }\n",
              "      .ndarray_repr.show_array .ndarray_raw_data {\n",
              "        display: block;\n",
              "      }\n",
              "      .ndarray_repr.show_array .ndarray_image_preview {\n",
              "        display: none;\n",
              "      }\n",
              "      </style>\n",
              "      <div id=\"id-0b4c34f4-0022-4387-9b3a-72036378546e\" class=\"ndarray_repr\"><pre>ndarray (32, 32, 3) <button style=\"padding: 0 2px;\">show data</button></pre><img src=\"data:image/png;base64,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\" class=\"ndarray_image_preview\" /><pre class=\"ndarray_raw_data\">array([[[255, 255, 255],\n",
              "        [255, 255, 255],\n",
              "        [255, 255, 255],\n",
              "        ...,\n",
              "        [195, 205, 193],\n",
              "        [212, 224, 204],\n",
              "        [182, 194, 167]],\n",
              "\n",
              "       [[255, 255, 255],\n",
              "        [254, 254, 254],\n",
              "        [254, 254, 254],\n",
              "        ...,\n",
              "        [170, 176, 150],\n",
              "        [161, 168, 130],\n",
              "        [146, 154, 113]],\n",
              "\n",
              "       [[255, 255, 255],\n",
              "        [254, 254, 254],\n",
              "        [255, 255, 255],\n",
              "        ...,\n",
              "        [189, 199, 169],\n",
              "        [166, 178, 130],\n",
              "        [121, 133,  87]],\n",
              "\n",
              "       ...,\n",
              "\n",
              "       [[148, 185,  79],\n",
              "        [142, 182,  57],\n",
              "        [140, 179,  60],\n",
              "        ...,\n",
              "        [ 30,  17,   1],\n",
              "        [ 65,  62,  15],\n",
              "        [ 76,  77,  20]],\n",
              "\n",
              "       [[122, 157,  66],\n",
              "        [120, 155,  58],\n",
              "        [126, 160,  71],\n",
              "        ...,\n",
              "        [ 22,  16,   3],\n",
              "        [ 97, 112,  56],\n",
              "        [141, 161,  87]],\n",
              "\n",
              "       [[ 87, 122,  41],\n",
              "        [ 88, 122,  39],\n",
              "        [101, 134,  56],\n",
              "        ...,\n",
              "        [ 34,  36,  10],\n",
              "        [105, 133,  59],\n",
              "        [138, 173,  79]]], dtype=uint8)</pre></div><script>\n",
              "      (() => {\n",
              "      const titles = ['show data', 'hide data'];\n",
              "      let index = 0\n",
              "      document.querySelector('#id-0b4c34f4-0022-4387-9b3a-72036378546e button').onclick = (e) => {\n",
              "        document.querySelector('#id-0b4c34f4-0022-4387-9b3a-72036378546e').classList.toggle('show_array');\n",
              "        index = (++index) % 2;\n",
              "        document.querySelector('#id-0b4c34f4-0022-4387-9b3a-72036378546e button').textContent = titles[index];\n",
              "        e.preventDefault();\n",
              "        e.stopPropagation();\n",
              "      }\n",
              "      })();\n",
              "    </script>"
            ]
          },
          "metadata": {},
          "execution_count": 51
        }
      ]
    },
    {
      "cell_type": "markdown",
      "source": [
        "# Pre-processing"
      ],
      "metadata": {
        "id": "fXrNywP8fOmJ"
      }
    },
    {
      "cell_type": "markdown",
      "source": [
        "# Normalizing :\n",
        "\n",
        "since every pixel ranges from 0 to 255 - we normalize by 255.\n",
        "\n",
        "squeeze the details without losing context."
      ],
      "metadata": {
        "id": "Gh5qaUwgfMHG"
      }
    },
    {
      "cell_type": "code",
      "source": [
        "print(\"Normalizing pixel values...\")\n",
        "x_train_normalized = x_train.astype('float32') / 255.0\n",
        "x_test_normalized = x_test.astype('float32') / 255.0\n",
        "\n",
        "print(f\"Normalized pixel value range: {x_train_normalized.min()} - {x_train_normalized.max()}\")\n"
      ],
      "metadata": {
        "colab": {
          "base_uri": "https://localhost:8080/"
        },
        "id": "iuo0R3oafFFn",
        "outputId": "98a44dca-f5f7-4aeb-ba7f-18185af9fcbd"
      },
      "execution_count": 52,
      "outputs": [
        {
          "output_type": "stream",
          "name": "stdout",
          "text": [
            "Normalizing pixel values...\n",
            "Normalized pixel value range: 0.0 - 1.0\n"
          ]
        }
      ]
    },
    {
      "cell_type": "markdown",
      "source": [
        "#One-Hot Encoding vs num_classes\n",
        "\n",
        "\n",
        "\n"
      ],
      "metadata": {
        "id": "BRle8Xm-hVG8"
      }
    },
    {
      "cell_type": "code",
      "source": [
        "num_classes = 100\n",
        "y_train_onehot = keras.utils.to_categorical(y_train, num_classes)\n",
        "y_test_onehot = keras.utils.to_categorical(y_test, num_classes)"
      ],
      "metadata": {
        "id": "0MFlqVh9haqW"
      },
      "execution_count": 53,
      "outputs": []
    },
    {
      "cell_type": "code",
      "source": [
        "y_train_onehot[0]"
      ],
      "metadata": {
        "colab": {
          "base_uri": "https://localhost:8080/"
        },
        "id": "GA7Ivkwthb-O",
        "outputId": "54e937c2-5111-48ae-c21b-8101858e8fd7"
      },
      "execution_count": 54,
      "outputs": [
        {
          "output_type": "execute_result",
          "data": {
            "text/plain": [
              "array([0., 0., 0., 0., 0., 0., 0., 0., 0., 0., 0., 0., 0., 0., 0., 0., 0.,\n",
              "       0., 0., 1., 0., 0., 0., 0., 0., 0., 0., 0., 0., 0., 0., 0., 0., 0.,\n",
              "       0., 0., 0., 0., 0., 0., 0., 0., 0., 0., 0., 0., 0., 0., 0., 0., 0.,\n",
              "       0., 0., 0., 0., 0., 0., 0., 0., 0., 0., 0., 0., 0., 0., 0., 0., 0.,\n",
              "       0., 0., 0., 0., 0., 0., 0., 0., 0., 0., 0., 0., 0., 0., 0., 0., 0.,\n",
              "       0., 0., 0., 0., 0., 0., 0., 0., 0., 0., 0., 0., 0., 0., 0.])"
            ]
          },
          "metadata": {},
          "execution_count": 54
        }
      ]
    },
    {
      "cell_type": "code",
      "source": [
        "y_train.shape"
      ],
      "metadata": {
        "colab": {
          "base_uri": "https://localhost:8080/"
        },
        "id": "m5RwZ8aihsrA",
        "outputId": "1e4da44c-0227-4061-d9d9-79acb565c653"
      },
      "execution_count": 55,
      "outputs": [
        {
          "output_type": "execute_result",
          "data": {
            "text/plain": [
              "(50000, 1)"
            ]
          },
          "metadata": {},
          "execution_count": 55
        }
      ]
    },
    {
      "cell_type": "code",
      "source": [
        "y_train_onehot.shape"
      ],
      "metadata": {
        "colab": {
          "base_uri": "https://localhost:8080/"
        },
        "id": "SMwwnILDiAHO",
        "outputId": "fcaeee25-41e6-4ee2-e92b-c4b49418ed5c"
      },
      "execution_count": 56,
      "outputs": [
        {
          "output_type": "execute_result",
          "data": {
            "text/plain": [
              "(50000, 100)"
            ]
          },
          "metadata": {},
          "execution_count": 56
        }
      ]
    },
    {
      "cell_type": "code",
      "source": [
        "print(f\"x_train_normalized: {x_train_normalized.shape}\")\n",
        "print(f\"y_train_onehot: {y_train_onehot.shape}\")\n",
        "print(f\"x_test_normalized: {x_test_normalized.shape}\")\n",
        "print(f\"y_test_onehot: {y_test_onehot.shape}\")"
      ],
      "metadata": {
        "colab": {
          "base_uri": "https://localhost:8080/"
        },
        "id": "KMDv-Y0viIFH",
        "outputId": "7aab6c01-0f0d-447b-b4c2-f0c6c7320afd"
      },
      "execution_count": 57,
      "outputs": [
        {
          "output_type": "stream",
          "name": "stdout",
          "text": [
            "x_train_normalized: (50000, 32, 32, 3)\n",
            "y_train_onehot: (50000, 100)\n",
            "x_test_normalized: (10000, 32, 32, 3)\n",
            "y_test_onehot: (10000, 100)\n"
          ]
        }
      ]
    },
    {
      "cell_type": "code",
      "source": [],
      "metadata": {
        "id": "3EmeDYJTffHI"
      },
      "execution_count": 57,
      "outputs": []
    },
    {
      "cell_type": "markdown",
      "source": [],
      "metadata": {
        "id": "vpXUXVpkeqZz"
      }
    },
    {
      "cell_type": "markdown",
      "source": [
        "2.  **Model Building:**\n",
        "    *   Adapt the ANN and CNN model architectures for the CIFAR-100 dataset. Consider that CIFAR-100 images are color (3 channels) and have a different resolution (32x32). You might need to adjust the input layer and potentially the number of filters or layers in the CNNs for better performance on a more complex dataset."
      ],
      "metadata": {
        "id": "bglBTlG2dQjm"
      }
    },
    {
      "cell_type": "markdown",
      "source": [
        "- **Flatten (32×32x3 → 3072)** → 0 params  \n",
        "- **Dense (512, ReLU)** → 15,73,376 params  \n",
        "- **Dense (256, ReLU)** → 1,31,328 params  \n",
        "- **Dense (100, Softmax)** → 25700 params  \n",
        "\n",
        "**Total params:** ~109K  "
      ],
      "metadata": {
        "id": "zSGYirwv895R"
      }
    },
    {
      "cell_type": "code",
      "source": [
        "ann_model = keras.Sequential([\n",
        "        # Flatten the 32x32x3 image into a 1D vector of 3072 pixels\n",
        "        keras.layers.Flatten(input_shape=(32, 32, 3)),\n",
        "\n",
        "        # Hidden Dense layers\n",
        "        keras.layers.Dense(512, activation='relu'),\n",
        "        keras.layers.Dense(256, activation='relu'),\n",
        "\n",
        "        # Output layer with 100 units for 100 classes\n",
        "        keras.layers.Dense(100, activation='softmax')\n",
        "    ])"
      ],
      "metadata": {
        "colab": {
          "base_uri": "https://localhost:8080/"
        },
        "id": "bF7RW7TadQ7X",
        "outputId": "e6f0b4c9-d760-47a4-b72f-cd37bb9d3ea5"
      },
      "execution_count": 58,
      "outputs": [
        {
          "output_type": "stream",
          "name": "stderr",
          "text": [
            "/usr/local/lib/python3.12/dist-packages/keras/src/layers/reshaping/flatten.py:37: UserWarning:\n",
            "\n",
            "Do not pass an `input_shape`/`input_dim` argument to a layer. When using Sequential models, prefer using an `Input(shape)` object as the first layer in the model instead.\n",
            "\n"
          ]
        }
      ]
    },
    {
      "cell_type": "code",
      "source": [
        "ann_model.compile(optimizer='adam',\n",
        "                  loss='categorical_crossentropy',\n",
        "                  metrics=['accuracy'])"
      ],
      "metadata": {
        "id": "magIkBdMlp9m"
      },
      "execution_count": 59,
      "outputs": []
    },
    {
      "cell_type": "code",
      "source": [
        "ann_model.summary()"
      ],
      "metadata": {
        "colab": {
          "base_uri": "https://localhost:8080/",
          "height": 265
        },
        "id": "B0NCzyl9dTk0",
        "outputId": "eeb83a32-d4d4-4b1a-af17-43d5dac206dc"
      },
      "execution_count": 60,
      "outputs": [
        {
          "output_type": "display_data",
          "data": {
            "text/plain": [
              "\u001b[1mModel: \"sequential_4\"\u001b[0m\n"
            ],
            "text/html": [
              "<pre style=\"white-space:pre;overflow-x:auto;line-height:normal;font-family:Menlo,'DejaVu Sans Mono',consolas,'Courier New',monospace\"><span style=\"font-weight: bold\">Model: \"sequential_4\"</span>\n",
              "</pre>\n"
            ]
          },
          "metadata": {}
        },
        {
          "output_type": "display_data",
          "data": {
            "text/plain": [
              "┏━━━━━━━━━━━━━━━━━━━━━━━━━━━━━━━━━┳━━━━━━━━━━━━━━━━━━━━━━━━┳━━━━━━━━━━━━━━━┓\n",
              "┃\u001b[1m \u001b[0m\u001b[1mLayer (type)                   \u001b[0m\u001b[1m \u001b[0m┃\u001b[1m \u001b[0m\u001b[1mOutput Shape          \u001b[0m\u001b[1m \u001b[0m┃\u001b[1m \u001b[0m\u001b[1m      Param #\u001b[0m\u001b[1m \u001b[0m┃\n",
              "┡━━━━━━━━━━━━━━━━━━━━━━━━━━━━━━━━━╇━━━━━━━━━━━━━━━━━━━━━━━━╇━━━━━━━━━━━━━━━┩\n",
              "│ flatten_4 (\u001b[38;5;33mFlatten\u001b[0m)             │ (\u001b[38;5;45mNone\u001b[0m, \u001b[38;5;34m3072\u001b[0m)           │             \u001b[38;5;34m0\u001b[0m │\n",
              "├─────────────────────────────────┼────────────────────────┼───────────────┤\n",
              "│ dense_9 (\u001b[38;5;33mDense\u001b[0m)                 │ (\u001b[38;5;45mNone\u001b[0m, \u001b[38;5;34m512\u001b[0m)            │     \u001b[38;5;34m1,573,376\u001b[0m │\n",
              "├─────────────────────────────────┼────────────────────────┼───────────────┤\n",
              "│ dense_10 (\u001b[38;5;33mDense\u001b[0m)                │ (\u001b[38;5;45mNone\u001b[0m, \u001b[38;5;34m256\u001b[0m)            │       \u001b[38;5;34m131,328\u001b[0m │\n",
              "├─────────────────────────────────┼────────────────────────┼───────────────┤\n",
              "│ dense_11 (\u001b[38;5;33mDense\u001b[0m)                │ (\u001b[38;5;45mNone\u001b[0m, \u001b[38;5;34m100\u001b[0m)            │        \u001b[38;5;34m25,700\u001b[0m │\n",
              "└─────────────────────────────────┴────────────────────────┴───────────────┘\n"
            ],
            "text/html": [
              "<pre style=\"white-space:pre;overflow-x:auto;line-height:normal;font-family:Menlo,'DejaVu Sans Mono',consolas,'Courier New',monospace\">┏━━━━━━━━━━━━━━━━━━━━━━━━━━━━━━━━━┳━━━━━━━━━━━━━━━━━━━━━━━━┳━━━━━━━━━━━━━━━┓\n",
              "┃<span style=\"font-weight: bold\"> Layer (type)                    </span>┃<span style=\"font-weight: bold\"> Output Shape           </span>┃<span style=\"font-weight: bold\">       Param # </span>┃\n",
              "┡━━━━━━━━━━━━━━━━━━━━━━━━━━━━━━━━━╇━━━━━━━━━━━━━━━━━━━━━━━━╇━━━━━━━━━━━━━━━┩\n",
              "│ flatten_4 (<span style=\"color: #0087ff; text-decoration-color: #0087ff\">Flatten</span>)             │ (<span style=\"color: #00d7ff; text-decoration-color: #00d7ff\">None</span>, <span style=\"color: #00af00; text-decoration-color: #00af00\">3072</span>)           │             <span style=\"color: #00af00; text-decoration-color: #00af00\">0</span> │\n",
              "├─────────────────────────────────┼────────────────────────┼───────────────┤\n",
              "│ dense_9 (<span style=\"color: #0087ff; text-decoration-color: #0087ff\">Dense</span>)                 │ (<span style=\"color: #00d7ff; text-decoration-color: #00d7ff\">None</span>, <span style=\"color: #00af00; text-decoration-color: #00af00\">512</span>)            │     <span style=\"color: #00af00; text-decoration-color: #00af00\">1,573,376</span> │\n",
              "├─────────────────────────────────┼────────────────────────┼───────────────┤\n",
              "│ dense_10 (<span style=\"color: #0087ff; text-decoration-color: #0087ff\">Dense</span>)                │ (<span style=\"color: #00d7ff; text-decoration-color: #00d7ff\">None</span>, <span style=\"color: #00af00; text-decoration-color: #00af00\">256</span>)            │       <span style=\"color: #00af00; text-decoration-color: #00af00\">131,328</span> │\n",
              "├─────────────────────────────────┼────────────────────────┼───────────────┤\n",
              "│ dense_11 (<span style=\"color: #0087ff; text-decoration-color: #0087ff\">Dense</span>)                │ (<span style=\"color: #00d7ff; text-decoration-color: #00d7ff\">None</span>, <span style=\"color: #00af00; text-decoration-color: #00af00\">100</span>)            │        <span style=\"color: #00af00; text-decoration-color: #00af00\">25,700</span> │\n",
              "└─────────────────────────────────┴────────────────────────┴───────────────┘\n",
              "</pre>\n"
            ]
          },
          "metadata": {}
        },
        {
          "output_type": "display_data",
          "data": {
            "text/plain": [
              "\u001b[1m Total params: \u001b[0m\u001b[38;5;34m1,730,404\u001b[0m (6.60 MB)\n"
            ],
            "text/html": [
              "<pre style=\"white-space:pre;overflow-x:auto;line-height:normal;font-family:Menlo,'DejaVu Sans Mono',consolas,'Courier New',monospace\"><span style=\"font-weight: bold\"> Total params: </span><span style=\"color: #00af00; text-decoration-color: #00af00\">1,730,404</span> (6.60 MB)\n",
              "</pre>\n"
            ]
          },
          "metadata": {}
        },
        {
          "output_type": "display_data",
          "data": {
            "text/plain": [
              "\u001b[1m Trainable params: \u001b[0m\u001b[38;5;34m1,730,404\u001b[0m (6.60 MB)\n"
            ],
            "text/html": [
              "<pre style=\"white-space:pre;overflow-x:auto;line-height:normal;font-family:Menlo,'DejaVu Sans Mono',consolas,'Courier New',monospace\"><span style=\"font-weight: bold\"> Trainable params: </span><span style=\"color: #00af00; text-decoration-color: #00af00\">1,730,404</span> (6.60 MB)\n",
              "</pre>\n"
            ]
          },
          "metadata": {}
        },
        {
          "output_type": "display_data",
          "data": {
            "text/plain": [
              "\u001b[1m Non-trainable params: \u001b[0m\u001b[38;5;34m0\u001b[0m (0.00 B)\n"
            ],
            "text/html": [
              "<pre style=\"white-space:pre;overflow-x:auto;line-height:normal;font-family:Menlo,'DejaVu Sans Mono',consolas,'Courier New',monospace\"><span style=\"font-weight: bold\"> Non-trainable params: </span><span style=\"color: #00af00; text-decoration-color: #00af00\">0</span> (0.00 B)\n",
              "</pre>\n"
            ]
          },
          "metadata": {}
        }
      ]
    },
    {
      "cell_type": "markdown",
      "source": [
        "# Building a CNN Model"
      ],
      "metadata": {
        "id": "5HWVd4QhiXaG"
      }
    },
    {
      "cell_type": "code",
      "source": [
        "from keras import layers"
      ],
      "metadata": {
        "id": "litkkdNpieE5"
      },
      "execution_count": 61,
      "outputs": []
    },
    {
      "cell_type": "code",
      "source": [
        "#basic cnn model\n",
        "basic_cnn_model = keras.Sequential([\n",
        "    keras.layers.Conv2D(32, (3, 3), activation='relu', input_shape=(32, 32, 3)),\n",
        "    keras.layers.MaxPooling2D((2, 2)),\n",
        "    keras.layers.Conv2D(64, (3, 3), activation='relu'),\n",
        "    keras.layers.MaxPooling2D((2, 2)),\n",
        "    keras.layers.Flatten(),\n",
        "    keras.layers.Dense(64, activation='relu'),\n",
        "    keras.layers.Dense(100, activation='softmax')\n",
        "])\n",
        "\n",
        "\n",
        "basic_cnn_model.compile(optimizer='adam',\n",
        "                        loss='categorical_crossentropy',\n",
        "                        metrics=['accuracy'])\n",
        "\n",
        "basic_cnn_model.summary()"
      ],
      "metadata": {
        "colab": {
          "base_uri": "https://localhost:8080/",
          "height": 364
        },
        "id": "WWbNUyTZ8-DS",
        "outputId": "504380f9-a146-4ff2-b18d-d4d0ef08dafa"
      },
      "execution_count": 73,
      "outputs": [
        {
          "output_type": "display_data",
          "data": {
            "text/plain": [
              "\u001b[1mModel: \"sequential_8\"\u001b[0m\n"
            ],
            "text/html": [
              "<pre style=\"white-space:pre;overflow-x:auto;line-height:normal;font-family:Menlo,'DejaVu Sans Mono',consolas,'Courier New',monospace\"><span style=\"font-weight: bold\">Model: \"sequential_8\"</span>\n",
              "</pre>\n"
            ]
          },
          "metadata": {}
        },
        {
          "output_type": "display_data",
          "data": {
            "text/plain": [
              "┏━━━━━━━━━━━━━━━━━━━━━━━━━━━━━━━━━┳━━━━━━━━━━━━━━━━━━━━━━━━┳━━━━━━━━━━━━━━━┓\n",
              "┃\u001b[1m \u001b[0m\u001b[1mLayer (type)                   \u001b[0m\u001b[1m \u001b[0m┃\u001b[1m \u001b[0m\u001b[1mOutput Shape          \u001b[0m\u001b[1m \u001b[0m┃\u001b[1m \u001b[0m\u001b[1m      Param #\u001b[0m\u001b[1m \u001b[0m┃\n",
              "┡━━━━━━━━━━━━━━━━━━━━━━━━━━━━━━━━━╇━━━━━━━━━━━━━━━━━━━━━━━━╇━━━━━━━━━━━━━━━┩\n",
              "│ conv2d_14 (\u001b[38;5;33mConv2D\u001b[0m)              │ (\u001b[38;5;45mNone\u001b[0m, \u001b[38;5;34m30\u001b[0m, \u001b[38;5;34m30\u001b[0m, \u001b[38;5;34m32\u001b[0m)     │           \u001b[38;5;34m896\u001b[0m │\n",
              "├─────────────────────────────────┼────────────────────────┼───────────────┤\n",
              "│ max_pooling2d_10 (\u001b[38;5;33mMaxPooling2D\u001b[0m) │ (\u001b[38;5;45mNone\u001b[0m, \u001b[38;5;34m15\u001b[0m, \u001b[38;5;34m15\u001b[0m, \u001b[38;5;34m32\u001b[0m)     │             \u001b[38;5;34m0\u001b[0m │\n",
              "├─────────────────────────────────┼────────────────────────┼───────────────┤\n",
              "│ conv2d_15 (\u001b[38;5;33mConv2D\u001b[0m)              │ (\u001b[38;5;45mNone\u001b[0m, \u001b[38;5;34m13\u001b[0m, \u001b[38;5;34m13\u001b[0m, \u001b[38;5;34m64\u001b[0m)     │        \u001b[38;5;34m18,496\u001b[0m │\n",
              "├─────────────────────────────────┼────────────────────────┼───────────────┤\n",
              "│ max_pooling2d_11 (\u001b[38;5;33mMaxPooling2D\u001b[0m) │ (\u001b[38;5;45mNone\u001b[0m, \u001b[38;5;34m6\u001b[0m, \u001b[38;5;34m6\u001b[0m, \u001b[38;5;34m64\u001b[0m)       │             \u001b[38;5;34m0\u001b[0m │\n",
              "├─────────────────────────────────┼────────────────────────┼───────────────┤\n",
              "│ flatten_8 (\u001b[38;5;33mFlatten\u001b[0m)             │ (\u001b[38;5;45mNone\u001b[0m, \u001b[38;5;34m2304\u001b[0m)           │             \u001b[38;5;34m0\u001b[0m │\n",
              "├─────────────────────────────────┼────────────────────────┼───────────────┤\n",
              "│ dense_18 (\u001b[38;5;33mDense\u001b[0m)                │ (\u001b[38;5;45mNone\u001b[0m, \u001b[38;5;34m64\u001b[0m)             │       \u001b[38;5;34m147,520\u001b[0m │\n",
              "├─────────────────────────────────┼────────────────────────┼───────────────┤\n",
              "│ dense_19 (\u001b[38;5;33mDense\u001b[0m)                │ (\u001b[38;5;45mNone\u001b[0m, \u001b[38;5;34m100\u001b[0m)            │         \u001b[38;5;34m6,500\u001b[0m │\n",
              "└─────────────────────────────────┴────────────────────────┴───────────────┘\n"
            ],
            "text/html": [
              "<pre style=\"white-space:pre;overflow-x:auto;line-height:normal;font-family:Menlo,'DejaVu Sans Mono',consolas,'Courier New',monospace\">┏━━━━━━━━━━━━━━━━━━━━━━━━━━━━━━━━━┳━━━━━━━━━━━━━━━━━━━━━━━━┳━━━━━━━━━━━━━━━┓\n",
              "┃<span style=\"font-weight: bold\"> Layer (type)                    </span>┃<span style=\"font-weight: bold\"> Output Shape           </span>┃<span style=\"font-weight: bold\">       Param # </span>┃\n",
              "┡━━━━━━━━━━━━━━━━━━━━━━━━━━━━━━━━━╇━━━━━━━━━━━━━━━━━━━━━━━━╇━━━━━━━━━━━━━━━┩\n",
              "│ conv2d_14 (<span style=\"color: #0087ff; text-decoration-color: #0087ff\">Conv2D</span>)              │ (<span style=\"color: #00d7ff; text-decoration-color: #00d7ff\">None</span>, <span style=\"color: #00af00; text-decoration-color: #00af00\">30</span>, <span style=\"color: #00af00; text-decoration-color: #00af00\">30</span>, <span style=\"color: #00af00; text-decoration-color: #00af00\">32</span>)     │           <span style=\"color: #00af00; text-decoration-color: #00af00\">896</span> │\n",
              "├─────────────────────────────────┼────────────────────────┼───────────────┤\n",
              "│ max_pooling2d_10 (<span style=\"color: #0087ff; text-decoration-color: #0087ff\">MaxPooling2D</span>) │ (<span style=\"color: #00d7ff; text-decoration-color: #00d7ff\">None</span>, <span style=\"color: #00af00; text-decoration-color: #00af00\">15</span>, <span style=\"color: #00af00; text-decoration-color: #00af00\">15</span>, <span style=\"color: #00af00; text-decoration-color: #00af00\">32</span>)     │             <span style=\"color: #00af00; text-decoration-color: #00af00\">0</span> │\n",
              "├─────────────────────────────────┼────────────────────────┼───────────────┤\n",
              "│ conv2d_15 (<span style=\"color: #0087ff; text-decoration-color: #0087ff\">Conv2D</span>)              │ (<span style=\"color: #00d7ff; text-decoration-color: #00d7ff\">None</span>, <span style=\"color: #00af00; text-decoration-color: #00af00\">13</span>, <span style=\"color: #00af00; text-decoration-color: #00af00\">13</span>, <span style=\"color: #00af00; text-decoration-color: #00af00\">64</span>)     │        <span style=\"color: #00af00; text-decoration-color: #00af00\">18,496</span> │\n",
              "├─────────────────────────────────┼────────────────────────┼───────────────┤\n",
              "│ max_pooling2d_11 (<span style=\"color: #0087ff; text-decoration-color: #0087ff\">MaxPooling2D</span>) │ (<span style=\"color: #00d7ff; text-decoration-color: #00d7ff\">None</span>, <span style=\"color: #00af00; text-decoration-color: #00af00\">6</span>, <span style=\"color: #00af00; text-decoration-color: #00af00\">6</span>, <span style=\"color: #00af00; text-decoration-color: #00af00\">64</span>)       │             <span style=\"color: #00af00; text-decoration-color: #00af00\">0</span> │\n",
              "├─────────────────────────────────┼────────────────────────┼───────────────┤\n",
              "│ flatten_8 (<span style=\"color: #0087ff; text-decoration-color: #0087ff\">Flatten</span>)             │ (<span style=\"color: #00d7ff; text-decoration-color: #00d7ff\">None</span>, <span style=\"color: #00af00; text-decoration-color: #00af00\">2304</span>)           │             <span style=\"color: #00af00; text-decoration-color: #00af00\">0</span> │\n",
              "├─────────────────────────────────┼────────────────────────┼───────────────┤\n",
              "│ dense_18 (<span style=\"color: #0087ff; text-decoration-color: #0087ff\">Dense</span>)                │ (<span style=\"color: #00d7ff; text-decoration-color: #00d7ff\">None</span>, <span style=\"color: #00af00; text-decoration-color: #00af00\">64</span>)             │       <span style=\"color: #00af00; text-decoration-color: #00af00\">147,520</span> │\n",
              "├─────────────────────────────────┼────────────────────────┼───────────────┤\n",
              "│ dense_19 (<span style=\"color: #0087ff; text-decoration-color: #0087ff\">Dense</span>)                │ (<span style=\"color: #00d7ff; text-decoration-color: #00d7ff\">None</span>, <span style=\"color: #00af00; text-decoration-color: #00af00\">100</span>)            │         <span style=\"color: #00af00; text-decoration-color: #00af00\">6,500</span> │\n",
              "└─────────────────────────────────┴────────────────────────┴───────────────┘\n",
              "</pre>\n"
            ]
          },
          "metadata": {}
        },
        {
          "output_type": "display_data",
          "data": {
            "text/plain": [
              "\u001b[1m Total params: \u001b[0m\u001b[38;5;34m173,412\u001b[0m (677.39 KB)\n"
            ],
            "text/html": [
              "<pre style=\"white-space:pre;overflow-x:auto;line-height:normal;font-family:Menlo,'DejaVu Sans Mono',consolas,'Courier New',monospace\"><span style=\"font-weight: bold\"> Total params: </span><span style=\"color: #00af00; text-decoration-color: #00af00\">173,412</span> (677.39 KB)\n",
              "</pre>\n"
            ]
          },
          "metadata": {}
        },
        {
          "output_type": "display_data",
          "data": {
            "text/plain": [
              "\u001b[1m Trainable params: \u001b[0m\u001b[38;5;34m173,412\u001b[0m (677.39 KB)\n"
            ],
            "text/html": [
              "<pre style=\"white-space:pre;overflow-x:auto;line-height:normal;font-family:Menlo,'DejaVu Sans Mono',consolas,'Courier New',monospace\"><span style=\"font-weight: bold\"> Trainable params: </span><span style=\"color: #00af00; text-decoration-color: #00af00\">173,412</span> (677.39 KB)\n",
              "</pre>\n"
            ]
          },
          "metadata": {}
        },
        {
          "output_type": "display_data",
          "data": {
            "text/plain": [
              "\u001b[1m Non-trainable params: \u001b[0m\u001b[38;5;34m0\u001b[0m (0.00 B)\n"
            ],
            "text/html": [
              "<pre style=\"white-space:pre;overflow-x:auto;line-height:normal;font-family:Menlo,'DejaVu Sans Mono',consolas,'Courier New',monospace\"><span style=\"font-weight: bold\"> Non-trainable params: </span><span style=\"color: #00af00; text-decoration-color: #00af00\">0</span> (0.00 B)\n",
              "</pre>\n"
            ]
          },
          "metadata": {}
        }
      ]
    },
    {
      "cell_type": "code",
      "source": [
        "deeper_cnn_model = keras.Sequential([\n",
        "\n",
        "        layers.Conv2D(32, (3, 3), activation='relu', padding='same', input_shape=(32, 32, 3)),\n",
        "        layers.BatchNormalization(),\n",
        "        layers.Conv2D(32, (3, 3), activation='relu', padding='same'),\n",
        "        layers.MaxPooling2D((2, 2)),\n",
        "        layers.Dropout(0.25),\n",
        "\n",
        "        layers.Conv2D(64, (3, 3), activation='relu', padding='same'),\n",
        "        layers.BatchNormalization(),\n",
        "        layers.Conv2D(64, (3, 3), activation='relu', padding='same'),\n",
        "        layers.MaxPooling2D((2, 2)),\n",
        "        layers.Dropout(0.25),\n",
        "\n",
        "        layers.Flatten(),\n",
        "        layers.Dense(512, activation='relu'),\n",
        "        layers.Dropout(0.5),\n",
        "\n",
        "        # Output layer with 100 units\n",
        "        layers.Dense(100, activation='softmax')\n",
        "    ])"
      ],
      "metadata": {
        "id": "3Sn47yxCiWuF"
      },
      "execution_count": 63,
      "outputs": []
    },
    {
      "cell_type": "code",
      "source": [
        "deeper_cnn_model.compile(optimizer='adam',\n",
        "                  loss='categorical_crossentropy',\n",
        "                  metrics=['accuracy'])"
      ],
      "metadata": {
        "id": "h02Vp3_El0Qg"
      },
      "execution_count": 64,
      "outputs": []
    },
    {
      "cell_type": "markdown",
      "source": [
        "* Optimizer (optimizer='adam'): The optimizer is an algorithm used to update the model's weights during training to minimize the loss.\n",
        "\n",
        "* Loss Function (loss='categorical_crossentropy'): The loss function measures how well the model is performing. We use categorical cross-entropy because we have a multi-class classification problem (100 classes) and our labels are one-hot encoded. The goal of the optimizer is to minimize this loss.\n",
        "\n",
        "* Metrics (metrics=['accuracy']): Metrics are used to monitor the training and testing steps. Accuracy is a common metric that simply measures the proportion of correct predictions."
      ],
      "metadata": {
        "id": "_ouDWdWvl1GF"
      }
    },
    {
      "cell_type": "code",
      "source": [
        "deeper_cnn_model.summary()"
      ],
      "metadata": {
        "colab": {
          "base_uri": "https://localhost:8080/",
          "height": 628
        },
        "id": "TXXL50Zyiuxa",
        "outputId": "b16e5b48-a452-4a9b-dd0c-bb21481cabf4"
      },
      "execution_count": 65,
      "outputs": [
        {
          "output_type": "display_data",
          "data": {
            "text/plain": [
              "\u001b[1mModel: \"sequential_6\"\u001b[0m\n"
            ],
            "text/html": [
              "<pre style=\"white-space:pre;overflow-x:auto;line-height:normal;font-family:Menlo,'DejaVu Sans Mono',consolas,'Courier New',monospace\"><span style=\"font-weight: bold\">Model: \"sequential_6\"</span>\n",
              "</pre>\n"
            ]
          },
          "metadata": {}
        },
        {
          "output_type": "display_data",
          "data": {
            "text/plain": [
              "┏━━━━━━━━━━━━━━━━━━━━━━━━━━━━━━━━━┳━━━━━━━━━━━━━━━━━━━━━━━━┳━━━━━━━━━━━━━━━┓\n",
              "┃\u001b[1m \u001b[0m\u001b[1mLayer (type)                   \u001b[0m\u001b[1m \u001b[0m┃\u001b[1m \u001b[0m\u001b[1mOutput Shape          \u001b[0m\u001b[1m \u001b[0m┃\u001b[1m \u001b[0m\u001b[1m      Param #\u001b[0m\u001b[1m \u001b[0m┃\n",
              "┡━━━━━━━━━━━━━━━━━━━━━━━━━━━━━━━━━╇━━━━━━━━━━━━━━━━━━━━━━━━╇━━━━━━━━━━━━━━━┩\n",
              "│ conv2d_8 (\u001b[38;5;33mConv2D\u001b[0m)               │ (\u001b[38;5;45mNone\u001b[0m, \u001b[38;5;34m32\u001b[0m, \u001b[38;5;34m32\u001b[0m, \u001b[38;5;34m32\u001b[0m)     │           \u001b[38;5;34m896\u001b[0m │\n",
              "├─────────────────────────────────┼────────────────────────┼───────────────┤\n",
              "│ batch_normalization_2           │ (\u001b[38;5;45mNone\u001b[0m, \u001b[38;5;34m32\u001b[0m, \u001b[38;5;34m32\u001b[0m, \u001b[38;5;34m32\u001b[0m)     │           \u001b[38;5;34m128\u001b[0m │\n",
              "│ (\u001b[38;5;33mBatchNormalization\u001b[0m)            │                        │               │\n",
              "├─────────────────────────────────┼────────────────────────┼───────────────┤\n",
              "│ conv2d_9 (\u001b[38;5;33mConv2D\u001b[0m)               │ (\u001b[38;5;45mNone\u001b[0m, \u001b[38;5;34m32\u001b[0m, \u001b[38;5;34m32\u001b[0m, \u001b[38;5;34m32\u001b[0m)     │         \u001b[38;5;34m9,248\u001b[0m │\n",
              "├─────────────────────────────────┼────────────────────────┼───────────────┤\n",
              "│ max_pooling2d_6 (\u001b[38;5;33mMaxPooling2D\u001b[0m)  │ (\u001b[38;5;45mNone\u001b[0m, \u001b[38;5;34m16\u001b[0m, \u001b[38;5;34m16\u001b[0m, \u001b[38;5;34m32\u001b[0m)     │             \u001b[38;5;34m0\u001b[0m │\n",
              "├─────────────────────────────────┼────────────────────────┼───────────────┤\n",
              "│ dropout_4 (\u001b[38;5;33mDropout\u001b[0m)             │ (\u001b[38;5;45mNone\u001b[0m, \u001b[38;5;34m16\u001b[0m, \u001b[38;5;34m16\u001b[0m, \u001b[38;5;34m32\u001b[0m)     │             \u001b[38;5;34m0\u001b[0m │\n",
              "├─────────────────────────────────┼────────────────────────┼───────────────┤\n",
              "│ conv2d_10 (\u001b[38;5;33mConv2D\u001b[0m)              │ (\u001b[38;5;45mNone\u001b[0m, \u001b[38;5;34m16\u001b[0m, \u001b[38;5;34m16\u001b[0m, \u001b[38;5;34m64\u001b[0m)     │        \u001b[38;5;34m18,496\u001b[0m │\n",
              "├─────────────────────────────────┼────────────────────────┼───────────────┤\n",
              "│ batch_normalization_3           │ (\u001b[38;5;45mNone\u001b[0m, \u001b[38;5;34m16\u001b[0m, \u001b[38;5;34m16\u001b[0m, \u001b[38;5;34m64\u001b[0m)     │           \u001b[38;5;34m256\u001b[0m │\n",
              "│ (\u001b[38;5;33mBatchNormalization\u001b[0m)            │                        │               │\n",
              "├─────────────────────────────────┼────────────────────────┼───────────────┤\n",
              "│ conv2d_11 (\u001b[38;5;33mConv2D\u001b[0m)              │ (\u001b[38;5;45mNone\u001b[0m, \u001b[38;5;34m16\u001b[0m, \u001b[38;5;34m16\u001b[0m, \u001b[38;5;34m64\u001b[0m)     │        \u001b[38;5;34m36,928\u001b[0m │\n",
              "├─────────────────────────────────┼────────────────────────┼───────────────┤\n",
              "│ max_pooling2d_7 (\u001b[38;5;33mMaxPooling2D\u001b[0m)  │ (\u001b[38;5;45mNone\u001b[0m, \u001b[38;5;34m8\u001b[0m, \u001b[38;5;34m8\u001b[0m, \u001b[38;5;34m64\u001b[0m)       │             \u001b[38;5;34m0\u001b[0m │\n",
              "├─────────────────────────────────┼────────────────────────┼───────────────┤\n",
              "│ dropout_5 (\u001b[38;5;33mDropout\u001b[0m)             │ (\u001b[38;5;45mNone\u001b[0m, \u001b[38;5;34m8\u001b[0m, \u001b[38;5;34m8\u001b[0m, \u001b[38;5;34m64\u001b[0m)       │             \u001b[38;5;34m0\u001b[0m │\n",
              "├─────────────────────────────────┼────────────────────────┼───────────────┤\n",
              "│ flatten_6 (\u001b[38;5;33mFlatten\u001b[0m)             │ (\u001b[38;5;45mNone\u001b[0m, \u001b[38;5;34m4096\u001b[0m)           │             \u001b[38;5;34m0\u001b[0m │\n",
              "├─────────────────────────────────┼────────────────────────┼───────────────┤\n",
              "│ dense_14 (\u001b[38;5;33mDense\u001b[0m)                │ (\u001b[38;5;45mNone\u001b[0m, \u001b[38;5;34m512\u001b[0m)            │     \u001b[38;5;34m2,097,664\u001b[0m │\n",
              "├─────────────────────────────────┼────────────────────────┼───────────────┤\n",
              "│ dropout_6 (\u001b[38;5;33mDropout\u001b[0m)             │ (\u001b[38;5;45mNone\u001b[0m, \u001b[38;5;34m512\u001b[0m)            │             \u001b[38;5;34m0\u001b[0m │\n",
              "├─────────────────────────────────┼────────────────────────┼───────────────┤\n",
              "│ dense_15 (\u001b[38;5;33mDense\u001b[0m)                │ (\u001b[38;5;45mNone\u001b[0m, \u001b[38;5;34m100\u001b[0m)            │        \u001b[38;5;34m51,300\u001b[0m │\n",
              "└─────────────────────────────────┴────────────────────────┴───────────────┘\n"
            ],
            "text/html": [
              "<pre style=\"white-space:pre;overflow-x:auto;line-height:normal;font-family:Menlo,'DejaVu Sans Mono',consolas,'Courier New',monospace\">┏━━━━━━━━━━━━━━━━━━━━━━━━━━━━━━━━━┳━━━━━━━━━━━━━━━━━━━━━━━━┳━━━━━━━━━━━━━━━┓\n",
              "┃<span style=\"font-weight: bold\"> Layer (type)                    </span>┃<span style=\"font-weight: bold\"> Output Shape           </span>┃<span style=\"font-weight: bold\">       Param # </span>┃\n",
              "┡━━━━━━━━━━━━━━━━━━━━━━━━━━━━━━━━━╇━━━━━━━━━━━━━━━━━━━━━━━━╇━━━━━━━━━━━━━━━┩\n",
              "│ conv2d_8 (<span style=\"color: #0087ff; text-decoration-color: #0087ff\">Conv2D</span>)               │ (<span style=\"color: #00d7ff; text-decoration-color: #00d7ff\">None</span>, <span style=\"color: #00af00; text-decoration-color: #00af00\">32</span>, <span style=\"color: #00af00; text-decoration-color: #00af00\">32</span>, <span style=\"color: #00af00; text-decoration-color: #00af00\">32</span>)     │           <span style=\"color: #00af00; text-decoration-color: #00af00\">896</span> │\n",
              "├─────────────────────────────────┼────────────────────────┼───────────────┤\n",
              "│ batch_normalization_2           │ (<span style=\"color: #00d7ff; text-decoration-color: #00d7ff\">None</span>, <span style=\"color: #00af00; text-decoration-color: #00af00\">32</span>, <span style=\"color: #00af00; text-decoration-color: #00af00\">32</span>, <span style=\"color: #00af00; text-decoration-color: #00af00\">32</span>)     │           <span style=\"color: #00af00; text-decoration-color: #00af00\">128</span> │\n",
              "│ (<span style=\"color: #0087ff; text-decoration-color: #0087ff\">BatchNormalization</span>)            │                        │               │\n",
              "├─────────────────────────────────┼────────────────────────┼───────────────┤\n",
              "│ conv2d_9 (<span style=\"color: #0087ff; text-decoration-color: #0087ff\">Conv2D</span>)               │ (<span style=\"color: #00d7ff; text-decoration-color: #00d7ff\">None</span>, <span style=\"color: #00af00; text-decoration-color: #00af00\">32</span>, <span style=\"color: #00af00; text-decoration-color: #00af00\">32</span>, <span style=\"color: #00af00; text-decoration-color: #00af00\">32</span>)     │         <span style=\"color: #00af00; text-decoration-color: #00af00\">9,248</span> │\n",
              "├─────────────────────────────────┼────────────────────────┼───────────────┤\n",
              "│ max_pooling2d_6 (<span style=\"color: #0087ff; text-decoration-color: #0087ff\">MaxPooling2D</span>)  │ (<span style=\"color: #00d7ff; text-decoration-color: #00d7ff\">None</span>, <span style=\"color: #00af00; text-decoration-color: #00af00\">16</span>, <span style=\"color: #00af00; text-decoration-color: #00af00\">16</span>, <span style=\"color: #00af00; text-decoration-color: #00af00\">32</span>)     │             <span style=\"color: #00af00; text-decoration-color: #00af00\">0</span> │\n",
              "├─────────────────────────────────┼────────────────────────┼───────────────┤\n",
              "│ dropout_4 (<span style=\"color: #0087ff; text-decoration-color: #0087ff\">Dropout</span>)             │ (<span style=\"color: #00d7ff; text-decoration-color: #00d7ff\">None</span>, <span style=\"color: #00af00; text-decoration-color: #00af00\">16</span>, <span style=\"color: #00af00; text-decoration-color: #00af00\">16</span>, <span style=\"color: #00af00; text-decoration-color: #00af00\">32</span>)     │             <span style=\"color: #00af00; text-decoration-color: #00af00\">0</span> │\n",
              "├─────────────────────────────────┼────────────────────────┼───────────────┤\n",
              "│ conv2d_10 (<span style=\"color: #0087ff; text-decoration-color: #0087ff\">Conv2D</span>)              │ (<span style=\"color: #00d7ff; text-decoration-color: #00d7ff\">None</span>, <span style=\"color: #00af00; text-decoration-color: #00af00\">16</span>, <span style=\"color: #00af00; text-decoration-color: #00af00\">16</span>, <span style=\"color: #00af00; text-decoration-color: #00af00\">64</span>)     │        <span style=\"color: #00af00; text-decoration-color: #00af00\">18,496</span> │\n",
              "├─────────────────────────────────┼────────────────────────┼───────────────┤\n",
              "│ batch_normalization_3           │ (<span style=\"color: #00d7ff; text-decoration-color: #00d7ff\">None</span>, <span style=\"color: #00af00; text-decoration-color: #00af00\">16</span>, <span style=\"color: #00af00; text-decoration-color: #00af00\">16</span>, <span style=\"color: #00af00; text-decoration-color: #00af00\">64</span>)     │           <span style=\"color: #00af00; text-decoration-color: #00af00\">256</span> │\n",
              "│ (<span style=\"color: #0087ff; text-decoration-color: #0087ff\">BatchNormalization</span>)            │                        │               │\n",
              "├─────────────────────────────────┼────────────────────────┼───────────────┤\n",
              "│ conv2d_11 (<span style=\"color: #0087ff; text-decoration-color: #0087ff\">Conv2D</span>)              │ (<span style=\"color: #00d7ff; text-decoration-color: #00d7ff\">None</span>, <span style=\"color: #00af00; text-decoration-color: #00af00\">16</span>, <span style=\"color: #00af00; text-decoration-color: #00af00\">16</span>, <span style=\"color: #00af00; text-decoration-color: #00af00\">64</span>)     │        <span style=\"color: #00af00; text-decoration-color: #00af00\">36,928</span> │\n",
              "├─────────────────────────────────┼────────────────────────┼───────────────┤\n",
              "│ max_pooling2d_7 (<span style=\"color: #0087ff; text-decoration-color: #0087ff\">MaxPooling2D</span>)  │ (<span style=\"color: #00d7ff; text-decoration-color: #00d7ff\">None</span>, <span style=\"color: #00af00; text-decoration-color: #00af00\">8</span>, <span style=\"color: #00af00; text-decoration-color: #00af00\">8</span>, <span style=\"color: #00af00; text-decoration-color: #00af00\">64</span>)       │             <span style=\"color: #00af00; text-decoration-color: #00af00\">0</span> │\n",
              "├─────────────────────────────────┼────────────────────────┼───────────────┤\n",
              "│ dropout_5 (<span style=\"color: #0087ff; text-decoration-color: #0087ff\">Dropout</span>)             │ (<span style=\"color: #00d7ff; text-decoration-color: #00d7ff\">None</span>, <span style=\"color: #00af00; text-decoration-color: #00af00\">8</span>, <span style=\"color: #00af00; text-decoration-color: #00af00\">8</span>, <span style=\"color: #00af00; text-decoration-color: #00af00\">64</span>)       │             <span style=\"color: #00af00; text-decoration-color: #00af00\">0</span> │\n",
              "├─────────────────────────────────┼────────────────────────┼───────────────┤\n",
              "│ flatten_6 (<span style=\"color: #0087ff; text-decoration-color: #0087ff\">Flatten</span>)             │ (<span style=\"color: #00d7ff; text-decoration-color: #00d7ff\">None</span>, <span style=\"color: #00af00; text-decoration-color: #00af00\">4096</span>)           │             <span style=\"color: #00af00; text-decoration-color: #00af00\">0</span> │\n",
              "├─────────────────────────────────┼────────────────────────┼───────────────┤\n",
              "│ dense_14 (<span style=\"color: #0087ff; text-decoration-color: #0087ff\">Dense</span>)                │ (<span style=\"color: #00d7ff; text-decoration-color: #00d7ff\">None</span>, <span style=\"color: #00af00; text-decoration-color: #00af00\">512</span>)            │     <span style=\"color: #00af00; text-decoration-color: #00af00\">2,097,664</span> │\n",
              "├─────────────────────────────────┼────────────────────────┼───────────────┤\n",
              "│ dropout_6 (<span style=\"color: #0087ff; text-decoration-color: #0087ff\">Dropout</span>)             │ (<span style=\"color: #00d7ff; text-decoration-color: #00d7ff\">None</span>, <span style=\"color: #00af00; text-decoration-color: #00af00\">512</span>)            │             <span style=\"color: #00af00; text-decoration-color: #00af00\">0</span> │\n",
              "├─────────────────────────────────┼────────────────────────┼───────────────┤\n",
              "│ dense_15 (<span style=\"color: #0087ff; text-decoration-color: #0087ff\">Dense</span>)                │ (<span style=\"color: #00d7ff; text-decoration-color: #00d7ff\">None</span>, <span style=\"color: #00af00; text-decoration-color: #00af00\">100</span>)            │        <span style=\"color: #00af00; text-decoration-color: #00af00\">51,300</span> │\n",
              "└─────────────────────────────────┴────────────────────────┴───────────────┘\n",
              "</pre>\n"
            ]
          },
          "metadata": {}
        },
        {
          "output_type": "display_data",
          "data": {
            "text/plain": [
              "\u001b[1m Total params: \u001b[0m\u001b[38;5;34m2,214,916\u001b[0m (8.45 MB)\n"
            ],
            "text/html": [
              "<pre style=\"white-space:pre;overflow-x:auto;line-height:normal;font-family:Menlo,'DejaVu Sans Mono',consolas,'Courier New',monospace\"><span style=\"font-weight: bold\"> Total params: </span><span style=\"color: #00af00; text-decoration-color: #00af00\">2,214,916</span> (8.45 MB)\n",
              "</pre>\n"
            ]
          },
          "metadata": {}
        },
        {
          "output_type": "display_data",
          "data": {
            "text/plain": [
              "\u001b[1m Trainable params: \u001b[0m\u001b[38;5;34m2,214,724\u001b[0m (8.45 MB)\n"
            ],
            "text/html": [
              "<pre style=\"white-space:pre;overflow-x:auto;line-height:normal;font-family:Menlo,'DejaVu Sans Mono',consolas,'Courier New',monospace\"><span style=\"font-weight: bold\"> Trainable params: </span><span style=\"color: #00af00; text-decoration-color: #00af00\">2,214,724</span> (8.45 MB)\n",
              "</pre>\n"
            ]
          },
          "metadata": {}
        },
        {
          "output_type": "display_data",
          "data": {
            "text/plain": [
              "\u001b[1m Non-trainable params: \u001b[0m\u001b[38;5;34m192\u001b[0m (768.00 B)\n"
            ],
            "text/html": [
              "<pre style=\"white-space:pre;overflow-x:auto;line-height:normal;font-family:Menlo,'DejaVu Sans Mono',consolas,'Courier New',monospace\"><span style=\"font-weight: bold\"> Non-trainable params: </span><span style=\"color: #00af00; text-decoration-color: #00af00\">192</span> (768.00 B)\n",
              "</pre>\n"
            ]
          },
          "metadata": {}
        }
      ]
    },
    {
      "cell_type": "markdown",
      "source": [
        " * **Conv2D** --> Conv2D layer applies a set of learnable filters (also called kernels) to the input image. Each filter slides over the image, performing a dot product with the input data it's currently on, and creates a feature map\n",
        "\n",
        "  * **MaxPooling2D** --> MaxPooling2D layer is used for downsampling the feature maps produced by the convolutional layers. It works by taking a small window (e.g., 2x2 pixels) and extracting the maximum value within that window. This does two important things.\n",
        "\n",
        "  * **Batch Normalization** --> Batch normalization is a technique used to stabilize and accelerate the training of deep neural networks. It normalizes the activations of the previous layer for each batch, effectively setting the mean activation to 0 and the standard deviation to 1.\n",
        "\n",
        "  * **Dropout** --> Dropout is a regularization technique that helps prevent overfitting. During training, a dropout layer randomly \"drops out\" (sets to zero) a certain percentage of neurons in a layer.\n",
        "\n",
        "  * **Flatten Layer** --> The convolutional and pooling layers output 3D feature maps (e.g., height x width x channels). However, a standard `Dense` layer requires a 1D vector as input. The `Flatten` layer simply takes the 3D output and transforms it into a 1D array of a single long vector.\n",
        "  \n",
        "  * **Dense Layers** --> Every Dense layer is FC layer. After the CNN has extracted features from the image, the `Dense` layers use these features to perform the final classification. The `Dense` layers learn to weigh the features to make a final prediction. The final `Dense` layer, with its `softmax` activation, outputs the probabilities for each of the 100 classes.\n"
      ],
      "metadata": {
        "id": "XVdPSs64ke8Z"
      }
    },
    {
      "cell_type": "markdown",
      "source": [
        "3.  **Model Training:**\n",
        "    *   Train the models using the preprocessed CIFAR-100 training data. Use Early Stopping and Model Checkpointing as implemented before.\n"
      ],
      "metadata": {
        "id": "iNjpFoLAdUDB"
      }
    },
    {
      "cell_type": "code",
      "source": [],
      "metadata": {
        "id": "2O1p4gMim5FU"
      },
      "execution_count": 65,
      "outputs": []
    },
    {
      "cell_type": "markdown",
      "source": [
        "# Defining model checkpoints"
      ],
      "metadata": {
        "id": "yFc3vJhnm5zO"
      }
    },
    {
      "cell_type": "code",
      "source": [
        "from tensorflow.keras.callbacks import EarlyStopping, ModelCheckpoint"
      ],
      "metadata": {
        "id": "pHIoy3HHmhyL"
      },
      "execution_count": 66,
      "outputs": []
    },
    {
      "cell_type": "code",
      "source": [
        "# Define the callbacks\n",
        "early_stopping = EarlyStopping(monitor='val_loss',\n",
        "                               patience=10,\n",
        "                               restore_best_weights=True)"
      ],
      "metadata": {
        "id": "gh-Olj4xdUX-"
      },
      "execution_count": 67,
      "outputs": []
    },
    {
      "cell_type": "code",
      "source": [
        "model_checkpoint_ann = ModelCheckpoint(filepath='best_ann_model_weights.weights.h5',\n",
        "                                     monitor='val_accuracy',\n",
        "                                     save_best_only=True,\n",
        "                                     save_weights_only=True,\n",
        "                                     mode='max',\n",
        "                                     verbose=1)\n",
        "\n",
        "model_checkpoint_cnn = ModelCheckpoint(filepath='best_cnn_model_weights.weights.h5',\n",
        "                                     monitor='val_accuracy',\n",
        "                                     save_best_only=True,\n",
        "                                     save_weights_only=True,\n",
        "                                     mode='max',\n",
        "                                     verbose=1)\n",
        "\n",
        "model_checkpoint_deeper_cnn = ModelCheckpoint(filepath='best_deeper_cnn_model_weights.weights.h5',\n",
        "                                     monitor='val_accuracy',\n",
        "                                     save_best_only=True,\n",
        "                                     save_weights_only=True,\n",
        "                                     mode='max',\n",
        "                                     verbose=1)"
      ],
      "metadata": {
        "id": "ufK_Gv6kmpKj"
      },
      "execution_count": 68,
      "outputs": []
    },
    {
      "cell_type": "markdown",
      "source": [
        "# Train the model"
      ],
      "metadata": {
        "id": "MlBo9DKdnvmA"
      }
    },
    {
      "cell_type": "code",
      "source": [
        "print(\"Training the ANN Model...\")\n",
        "\n",
        "ann_history = ann_model.fit(\n",
        "    x_train_normalized,\n",
        "    y_train_onehot,\n",
        "    epochs=30,\n",
        "    batch_size=64,\n",
        "    validation_data=(x_test_normalized, y_test_onehot),\n",
        "    callbacks=[model_checkpoint_ann]\n",
        ")"
      ],
      "metadata": {
        "colab": {
          "base_uri": "https://localhost:8080/"
        },
        "id": "l_wRafuqnyWC",
        "outputId": "1b8726ec-08d6-40c1-b83f-d89258509322"
      },
      "execution_count": 69,
      "outputs": [
        {
          "output_type": "stream",
          "name": "stdout",
          "text": [
            "Training the ANN Model...\n",
            "Epoch 1/30\n",
            "\u001b[1m782/782\u001b[0m \u001b[32m━━━━━━━━━━━━━━━━━━━━\u001b[0m\u001b[37m\u001b[0m \u001b[1m0s\u001b[0m 3ms/step - accuracy: 0.0427 - loss: 4.3666\n",
            "Epoch 1: val_accuracy improved from -inf to 0.11630, saving model to best_ann_model_weights.weights.h5\n",
            "\u001b[1m782/782\u001b[0m \u001b[32m━━━━━━━━━━━━━━━━━━━━\u001b[0m\u001b[37m\u001b[0m \u001b[1m6s\u001b[0m 6ms/step - accuracy: 0.0427 - loss: 4.3664 - val_accuracy: 0.1163 - val_loss: 3.8383\n",
            "Epoch 2/30\n",
            "\u001b[1m777/782\u001b[0m \u001b[32m━━━━━━━━━━━━━━━━━━━\u001b[0m\u001b[37m━\u001b[0m \u001b[1m0s\u001b[0m 3ms/step - accuracy: 0.1243 - loss: 3.7654\n",
            "Epoch 2: val_accuracy improved from 0.11630 to 0.14670, saving model to best_ann_model_weights.weights.h5\n",
            "\u001b[1m782/782\u001b[0m \u001b[32m━━━━━━━━━━━━━━━━━━━━\u001b[0m\u001b[37m\u001b[0m \u001b[1m3s\u001b[0m 4ms/step - accuracy: 0.1244 - loss: 3.7650 - val_accuracy: 0.1467 - val_loss: 3.6697\n",
            "Epoch 3/30\n",
            "\u001b[1m768/782\u001b[0m \u001b[32m━━━━━━━━━━━━━━━━━━━\u001b[0m\u001b[37m━\u001b[0m \u001b[1m0s\u001b[0m 3ms/step - accuracy: 0.1578 - loss: 3.5621\n",
            "Epoch 3: val_accuracy improved from 0.14670 to 0.15540, saving model to best_ann_model_weights.weights.h5\n",
            "\u001b[1m782/782\u001b[0m \u001b[32m━━━━━━━━━━━━━━━━━━━━\u001b[0m\u001b[37m\u001b[0m \u001b[1m3s\u001b[0m 4ms/step - accuracy: 0.1579 - loss: 3.5618 - val_accuracy: 0.1554 - val_loss: 3.6027\n",
            "Epoch 4/30\n",
            "\u001b[1m763/782\u001b[0m \u001b[32m━━━━━━━━━━━━━━━━━━━\u001b[0m\u001b[37m━\u001b[0m \u001b[1m0s\u001b[0m 3ms/step - accuracy: 0.1832 - loss: 3.4253\n",
            "Epoch 4: val_accuracy improved from 0.15540 to 0.17850, saving model to best_ann_model_weights.weights.h5\n",
            "\u001b[1m782/782\u001b[0m \u001b[32m━━━━━━━━━━━━━━━━━━━━\u001b[0m\u001b[37m\u001b[0m \u001b[1m5s\u001b[0m 3ms/step - accuracy: 0.1832 - loss: 3.4254 - val_accuracy: 0.1785 - val_loss: 3.4608\n",
            "Epoch 5/30\n",
            "\u001b[1m767/782\u001b[0m \u001b[32m━━━━━━━━━━━━━━━━━━━\u001b[0m\u001b[37m━\u001b[0m \u001b[1m0s\u001b[0m 3ms/step - accuracy: 0.1952 - loss: 3.3572\n",
            "Epoch 5: val_accuracy improved from 0.17850 to 0.18650, saving model to best_ann_model_weights.weights.h5\n",
            "\u001b[1m782/782\u001b[0m \u001b[32m━━━━━━━━━━━━━━━━━━━━\u001b[0m\u001b[37m\u001b[0m \u001b[1m3s\u001b[0m 3ms/step - accuracy: 0.1952 - loss: 3.3570 - val_accuracy: 0.1865 - val_loss: 3.4393\n",
            "Epoch 6/30\n",
            "\u001b[1m778/782\u001b[0m \u001b[32m━━━━━━━━━━━━━━━━━━━\u001b[0m\u001b[37m━\u001b[0m \u001b[1m0s\u001b[0m 3ms/step - accuracy: 0.2066 - loss: 3.2823\n",
            "Epoch 6: val_accuracy improved from 0.18650 to 0.19790, saving model to best_ann_model_weights.weights.h5\n",
            "\u001b[1m782/782\u001b[0m \u001b[32m━━━━━━━━━━━━━━━━━━━━\u001b[0m\u001b[37m\u001b[0m \u001b[1m3s\u001b[0m 3ms/step - accuracy: 0.2066 - loss: 3.2822 - val_accuracy: 0.1979 - val_loss: 3.4212\n",
            "Epoch 7/30\n",
            "\u001b[1m780/782\u001b[0m \u001b[32m━━━━━━━━━━━━━━━━━━━\u001b[0m\u001b[37m━\u001b[0m \u001b[1m0s\u001b[0m 3ms/step - accuracy: 0.2174 - loss: 3.2119\n",
            "Epoch 7: val_accuracy did not improve from 0.19790\n",
            "\u001b[1m782/782\u001b[0m \u001b[32m━━━━━━━━━━━━━━━━━━━━\u001b[0m\u001b[37m\u001b[0m \u001b[1m3s\u001b[0m 4ms/step - accuracy: 0.2174 - loss: 3.2120 - val_accuracy: 0.1960 - val_loss: 3.3984\n",
            "Epoch 8/30\n",
            "\u001b[1m765/782\u001b[0m \u001b[32m━━━━━━━━━━━━━━━━━━━\u001b[0m\u001b[37m━\u001b[0m \u001b[1m0s\u001b[0m 3ms/step - accuracy: 0.2329 - loss: 3.1564\n",
            "Epoch 8: val_accuracy improved from 0.19790 to 0.20660, saving model to best_ann_model_weights.weights.h5\n",
            "\u001b[1m782/782\u001b[0m \u001b[32m━━━━━━━━━━━━━━━━━━━━\u001b[0m\u001b[37m\u001b[0m \u001b[1m5s\u001b[0m 4ms/step - accuracy: 0.2329 - loss: 3.1566 - val_accuracy: 0.2066 - val_loss: 3.3425\n",
            "Epoch 9/30\n",
            "\u001b[1m771/782\u001b[0m \u001b[32m━━━━━━━━━━━━━━━━━━━\u001b[0m\u001b[37m━\u001b[0m \u001b[1m0s\u001b[0m 3ms/step - accuracy: 0.2365 - loss: 3.1187\n",
            "Epoch 9: val_accuracy improved from 0.20660 to 0.21560, saving model to best_ann_model_weights.weights.h5\n",
            "\u001b[1m782/782\u001b[0m \u001b[32m━━━━━━━━━━━━━━━━━━━━\u001b[0m\u001b[37m\u001b[0m \u001b[1m3s\u001b[0m 4ms/step - accuracy: 0.2365 - loss: 3.1189 - val_accuracy: 0.2156 - val_loss: 3.3226\n",
            "Epoch 10/30\n",
            "\u001b[1m763/782\u001b[0m \u001b[32m━━━━━━━━━━━━━━━━━━━\u001b[0m\u001b[37m━\u001b[0m \u001b[1m0s\u001b[0m 3ms/step - accuracy: 0.2439 - loss: 3.0831\n",
            "Epoch 10: val_accuracy improved from 0.21560 to 0.21670, saving model to best_ann_model_weights.weights.h5\n",
            "\u001b[1m782/782\u001b[0m \u001b[32m━━━━━━━━━━━━━━━━━━━━\u001b[0m\u001b[37m\u001b[0m \u001b[1m3s\u001b[0m 4ms/step - accuracy: 0.2438 - loss: 3.0833 - val_accuracy: 0.2167 - val_loss: 3.3342\n",
            "Epoch 11/30\n",
            "\u001b[1m764/782\u001b[0m \u001b[32m━━━━━━━━━━━━━━━━━━━\u001b[0m\u001b[37m━\u001b[0m \u001b[1m0s\u001b[0m 3ms/step - accuracy: 0.2534 - loss: 3.0427\n",
            "Epoch 11: val_accuracy did not improve from 0.21670\n",
            "\u001b[1m782/782\u001b[0m \u001b[32m━━━━━━━━━━━━━━━━━━━━\u001b[0m\u001b[37m\u001b[0m \u001b[1m5s\u001b[0m 3ms/step - accuracy: 0.2533 - loss: 3.0432 - val_accuracy: 0.2135 - val_loss: 3.3181\n",
            "Epoch 12/30\n",
            "\u001b[1m768/782\u001b[0m \u001b[32m━━━━━━━━━━━━━━━━━━━\u001b[0m\u001b[37m━\u001b[0m \u001b[1m0s\u001b[0m 3ms/step - accuracy: 0.2564 - loss: 3.0164\n",
            "Epoch 12: val_accuracy did not improve from 0.21670\n",
            "\u001b[1m782/782\u001b[0m \u001b[32m━━━━━━━━━━━━━━━━━━━━\u001b[0m\u001b[37m\u001b[0m \u001b[1m3s\u001b[0m 3ms/step - accuracy: 0.2564 - loss: 3.0168 - val_accuracy: 0.2159 - val_loss: 3.3296\n",
            "Epoch 13/30\n",
            "\u001b[1m779/782\u001b[0m \u001b[32m━━━━━━━━━━━━━━━━━━━\u001b[0m\u001b[37m━\u001b[0m \u001b[1m0s\u001b[0m 3ms/step - accuracy: 0.2620 - loss: 2.9865\n",
            "Epoch 13: val_accuracy improved from 0.21670 to 0.22530, saving model to best_ann_model_weights.weights.h5\n",
            "\u001b[1m782/782\u001b[0m \u001b[32m━━━━━━━━━━━━━━━━━━━━\u001b[0m\u001b[37m\u001b[0m \u001b[1m3s\u001b[0m 3ms/step - accuracy: 0.2620 - loss: 2.9865 - val_accuracy: 0.2253 - val_loss: 3.2903\n",
            "Epoch 14/30\n",
            "\u001b[1m775/782\u001b[0m \u001b[32m━━━━━━━━━━━━━━━━━━━\u001b[0m\u001b[37m━\u001b[0m \u001b[1m0s\u001b[0m 3ms/step - accuracy: 0.2711 - loss: 2.9437\n",
            "Epoch 14: val_accuracy did not improve from 0.22530\n",
            "\u001b[1m782/782\u001b[0m \u001b[32m━━━━━━━━━━━━━━━━━━━━\u001b[0m\u001b[37m\u001b[0m \u001b[1m3s\u001b[0m 4ms/step - accuracy: 0.2711 - loss: 2.9439 - val_accuracy: 0.2194 - val_loss: 3.3285\n",
            "Epoch 15/30\n",
            "\u001b[1m767/782\u001b[0m \u001b[32m━━━━━━━━━━━━━━━━━━━\u001b[0m\u001b[37m━\u001b[0m \u001b[1m0s\u001b[0m 3ms/step - accuracy: 0.2712 - loss: 2.9150\n",
            "Epoch 15: val_accuracy did not improve from 0.22530\n",
            "\u001b[1m782/782\u001b[0m \u001b[32m━━━━━━━━━━━━━━━━━━━━\u001b[0m\u001b[37m\u001b[0m \u001b[1m5s\u001b[0m 3ms/step - accuracy: 0.2711 - loss: 2.9156 - val_accuracy: 0.2195 - val_loss: 3.3489\n",
            "Epoch 16/30\n",
            "\u001b[1m765/782\u001b[0m \u001b[32m━━━━━━━━━━━━━━━━━━━\u001b[0m\u001b[37m━\u001b[0m \u001b[1m0s\u001b[0m 3ms/step - accuracy: 0.2788 - loss: 2.8929\n",
            "Epoch 16: val_accuracy improved from 0.22530 to 0.22780, saving model to best_ann_model_weights.weights.h5\n",
            "\u001b[1m782/782\u001b[0m \u001b[32m━━━━━━━━━━━━━━━━━━━━\u001b[0m\u001b[37m\u001b[0m \u001b[1m3s\u001b[0m 3ms/step - accuracy: 0.2787 - loss: 2.8935 - val_accuracy: 0.2278 - val_loss: 3.2903\n",
            "Epoch 17/30\n",
            "\u001b[1m779/782\u001b[0m \u001b[32m━━━━━━━━━━━━━━━━━━━\u001b[0m\u001b[37m━\u001b[0m \u001b[1m0s\u001b[0m 3ms/step - accuracy: 0.2844 - loss: 2.8607\n",
            "Epoch 17: val_accuracy improved from 0.22780 to 0.23250, saving model to best_ann_model_weights.weights.h5\n",
            "\u001b[1m782/782\u001b[0m \u001b[32m━━━━━━━━━━━━━━━━━━━━\u001b[0m\u001b[37m\u001b[0m \u001b[1m3s\u001b[0m 3ms/step - accuracy: 0.2843 - loss: 2.8609 - val_accuracy: 0.2325 - val_loss: 3.2776\n",
            "Epoch 18/30\n",
            "\u001b[1m780/782\u001b[0m \u001b[32m━━━━━━━━━━━━━━━━━━━\u001b[0m\u001b[37m━\u001b[0m \u001b[1m0s\u001b[0m 3ms/step - accuracy: 0.2906 - loss: 2.8271\n",
            "Epoch 18: val_accuracy did not improve from 0.23250\n",
            "\u001b[1m782/782\u001b[0m \u001b[32m━━━━━━━━━━━━━━━━━━━━\u001b[0m\u001b[37m\u001b[0m \u001b[1m3s\u001b[0m 4ms/step - accuracy: 0.2906 - loss: 2.8272 - val_accuracy: 0.2168 - val_loss: 3.3780\n",
            "Epoch 19/30\n",
            "\u001b[1m779/782\u001b[0m \u001b[32m━━━━━━━━━━━━━━━━━━━\u001b[0m\u001b[37m━\u001b[0m \u001b[1m0s\u001b[0m 3ms/step - accuracy: 0.2927 - loss: 2.8264\n",
            "Epoch 19: val_accuracy did not improve from 0.23250\n",
            "\u001b[1m782/782\u001b[0m \u001b[32m━━━━━━━━━━━━━━━━━━━━\u001b[0m\u001b[37m\u001b[0m \u001b[1m5s\u001b[0m 3ms/step - accuracy: 0.2927 - loss: 2.8265 - val_accuracy: 0.2176 - val_loss: 3.3685\n",
            "Epoch 20/30\n",
            "\u001b[1m768/782\u001b[0m \u001b[32m━━━━━━━━━━━━━━━━━━━\u001b[0m\u001b[37m━\u001b[0m \u001b[1m0s\u001b[0m 3ms/step - accuracy: 0.2990 - loss: 2.7970\n",
            "Epoch 20: val_accuracy did not improve from 0.23250\n",
            "\u001b[1m782/782\u001b[0m \u001b[32m━━━━━━━━━━━━━━━━━━━━\u001b[0m\u001b[37m\u001b[0m \u001b[1m5s\u001b[0m 3ms/step - accuracy: 0.2989 - loss: 2.7974 - val_accuracy: 0.2312 - val_loss: 3.3363\n",
            "Epoch 21/30\n",
            "\u001b[1m766/782\u001b[0m \u001b[32m━━━━━━━━━━━━━━━━━━━\u001b[0m\u001b[37m━\u001b[0m \u001b[1m0s\u001b[0m 3ms/step - accuracy: 0.3033 - loss: 2.7609\n",
            "Epoch 21: val_accuracy did not improve from 0.23250\n",
            "\u001b[1m782/782\u001b[0m \u001b[32m━━━━━━━━━━━━━━━━━━━━\u001b[0m\u001b[37m\u001b[0m \u001b[1m5s\u001b[0m 3ms/step - accuracy: 0.3032 - loss: 2.7617 - val_accuracy: 0.2285 - val_loss: 3.3662\n",
            "Epoch 22/30\n",
            "\u001b[1m767/782\u001b[0m \u001b[32m━━━━━━━━━━━━━━━━━━━\u001b[0m\u001b[37m━\u001b[0m \u001b[1m0s\u001b[0m 3ms/step - accuracy: 0.3096 - loss: 2.7415\n",
            "Epoch 22: val_accuracy improved from 0.23250 to 0.23310, saving model to best_ann_model_weights.weights.h5\n",
            "\u001b[1m782/782\u001b[0m \u001b[32m━━━━━━━━━━━━━━━━━━━━\u001b[0m\u001b[37m\u001b[0m \u001b[1m3s\u001b[0m 4ms/step - accuracy: 0.3095 - loss: 2.7422 - val_accuracy: 0.2331 - val_loss: 3.4202\n",
            "Epoch 23/30\n",
            "\u001b[1m775/782\u001b[0m \u001b[32m━━━━━━━━━━━━━━━━━━━\u001b[0m\u001b[37m━\u001b[0m \u001b[1m0s\u001b[0m 4ms/step - accuracy: 0.3089 - loss: 2.7356\n",
            "Epoch 23: val_accuracy did not improve from 0.23310\n",
            "\u001b[1m782/782\u001b[0m \u001b[32m━━━━━━━━━━━━━━━━━━━━\u001b[0m\u001b[37m\u001b[0m \u001b[1m6s\u001b[0m 4ms/step - accuracy: 0.3088 - loss: 2.7359 - val_accuracy: 0.2256 - val_loss: 3.3966\n",
            "Epoch 24/30\n",
            "\u001b[1m781/782\u001b[0m \u001b[32m━━━━━━━━━━━━━━━━━━━\u001b[0m\u001b[37m━\u001b[0m \u001b[1m0s\u001b[0m 3ms/step - accuracy: 0.3162 - loss: 2.7070\n",
            "Epoch 24: val_accuracy did not improve from 0.23310\n",
            "\u001b[1m782/782\u001b[0m \u001b[32m━━━━━━━━━━━━━━━━━━━━\u001b[0m\u001b[37m\u001b[0m \u001b[1m3s\u001b[0m 4ms/step - accuracy: 0.3162 - loss: 2.7071 - val_accuracy: 0.2257 - val_loss: 3.3833\n",
            "Epoch 25/30\n",
            "\u001b[1m774/782\u001b[0m \u001b[32m━━━━━━━━━━━━━━━━━━━\u001b[0m\u001b[37m━\u001b[0m \u001b[1m0s\u001b[0m 3ms/step - accuracy: 0.3130 - loss: 2.7095\n",
            "Epoch 25: val_accuracy did not improve from 0.23310\n",
            "\u001b[1m782/782\u001b[0m \u001b[32m━━━━━━━━━━━━━━━━━━━━\u001b[0m\u001b[37m\u001b[0m \u001b[1m2s\u001b[0m 3ms/step - accuracy: 0.3130 - loss: 2.7096 - val_accuracy: 0.2306 - val_loss: 3.3944\n",
            "Epoch 26/30\n",
            "\u001b[1m770/782\u001b[0m \u001b[32m━━━━━━━━━━━━━━━━━━━\u001b[0m\u001b[37m━\u001b[0m \u001b[1m0s\u001b[0m 4ms/step - accuracy: 0.3235 - loss: 2.6780\n",
            "Epoch 26: val_accuracy did not improve from 0.23310\n",
            "\u001b[1m782/782\u001b[0m \u001b[32m━━━━━━━━━━━━━━━━━━━━\u001b[0m\u001b[37m\u001b[0m \u001b[1m4s\u001b[0m 5ms/step - accuracy: 0.3235 - loss: 2.6783 - val_accuracy: 0.2328 - val_loss: 3.4027\n",
            "Epoch 27/30\n",
            "\u001b[1m773/782\u001b[0m \u001b[32m━━━━━━━━━━━━━━━━━━━\u001b[0m\u001b[37m━\u001b[0m \u001b[1m0s\u001b[0m 3ms/step - accuracy: 0.3282 - loss: 2.6401\n",
            "Epoch 27: val_accuracy did not improve from 0.23310\n",
            "\u001b[1m782/782\u001b[0m \u001b[32m━━━━━━━━━━━━━━━━━━━━\u001b[0m\u001b[37m\u001b[0m \u001b[1m5s\u001b[0m 4ms/step - accuracy: 0.3280 - loss: 2.6406 - val_accuracy: 0.2274 - val_loss: 3.4827\n",
            "Epoch 28/30\n",
            "\u001b[1m773/782\u001b[0m \u001b[32m━━━━━━━━━━━━━━━━━━━\u001b[0m\u001b[37m━\u001b[0m \u001b[1m0s\u001b[0m 3ms/step - accuracy: 0.3303 - loss: 2.6294\n",
            "Epoch 28: val_accuracy did not improve from 0.23310\n",
            "\u001b[1m782/782\u001b[0m \u001b[32m━━━━━━━━━━━━━━━━━━━━\u001b[0m\u001b[37m\u001b[0m \u001b[1m5s\u001b[0m 3ms/step - accuracy: 0.3302 - loss: 2.6298 - val_accuracy: 0.2311 - val_loss: 3.4309\n",
            "Epoch 29/30\n",
            "\u001b[1m778/782\u001b[0m \u001b[32m━━━━━━━━━━━━━━━━━━━\u001b[0m\u001b[37m━\u001b[0m \u001b[1m0s\u001b[0m 3ms/step - accuracy: 0.3284 - loss: 2.6139\n",
            "Epoch 29: val_accuracy did not improve from 0.23310\n",
            "\u001b[1m782/782\u001b[0m \u001b[32m━━━━━━━━━━━━━━━━━━━━\u001b[0m\u001b[37m\u001b[0m \u001b[1m3s\u001b[0m 3ms/step - accuracy: 0.3283 - loss: 2.6142 - val_accuracy: 0.2240 - val_loss: 3.5015\n",
            "Epoch 30/30\n",
            "\u001b[1m771/782\u001b[0m \u001b[32m━━━━━━━━━━━━━━━━━━━\u001b[0m\u001b[37m━\u001b[0m \u001b[1m0s\u001b[0m 3ms/step - accuracy: 0.3395 - loss: 2.5988\n",
            "Epoch 30: val_accuracy did not improve from 0.23310\n",
            "\u001b[1m782/782\u001b[0m \u001b[32m━━━━━━━━━━━━━━━━━━━━\u001b[0m\u001b[37m\u001b[0m \u001b[1m5s\u001b[0m 3ms/step - accuracy: 0.3394 - loss: 2.5994 - val_accuracy: 0.2224 - val_loss: 3.5303\n"
          ]
        }
      ]
    },
    {
      "cell_type": "code",
      "source": [],
      "metadata": {
        "id": "nL9WansZqFgn"
      },
      "execution_count": 69,
      "outputs": []
    },
    {
      "cell_type": "markdown",
      "source": [
        "# Train Basic CNN Model"
      ],
      "metadata": {
        "id": "j8IQAT6w9j3n"
      }
    },
    {
      "cell_type": "code",
      "source": [
        "print(\"Training Basic CNN model...\")\n",
        "basic_cnn_history = basic_cnn_model.fit(\n",
        "    x_train_normalized,\n",
        "    y_train_onehot,\n",
        "    epochs=30,\n",
        "    batch_size=64,\n",
        "    validation_data=(x_test_normalized, y_test_onehot),\n",
        "    callbacks=[model_checkpoint_cnn,early_stopping]\n",
        ")\n",
        "print(\"Basic CNN model training finished.\")"
      ],
      "metadata": {
        "colab": {
          "base_uri": "https://localhost:8080/"
        },
        "id": "8GFRqhBP9l7Y",
        "outputId": "c2daafef-56d1-4730-84ed-fa13516edff6"
      },
      "execution_count": 78,
      "outputs": [
        {
          "output_type": "stream",
          "name": "stdout",
          "text": [
            "Training Basic CNN model...\n",
            "Epoch 1/30\n",
            "\u001b[1m782/782\u001b[0m \u001b[32m━━━━━━━━━━━━━━━━━━━━\u001b[0m\u001b[37m\u001b[0m \u001b[1m0s\u001b[0m 3ms/step - accuracy: 0.4270 - loss: 2.1996\n",
            "Epoch 1: val_accuracy improved from -inf to 0.34840, saving model to best_cnn_model_weights.weights.h5\n",
            "\u001b[1m782/782\u001b[0m \u001b[32m━━━━━━━━━━━━━━━━━━━━\u001b[0m\u001b[37m\u001b[0m \u001b[1m3s\u001b[0m 4ms/step - accuracy: 0.4270 - loss: 2.1996 - val_accuracy: 0.3484 - val_loss: 2.6233\n",
            "Epoch 2/30\n",
            "\u001b[1m771/782\u001b[0m \u001b[32m━━━━━━━━━━━━━━━━━━━\u001b[0m\u001b[37m━\u001b[0m \u001b[1m0s\u001b[0m 3ms/step - accuracy: 0.4284 - loss: 2.1712\n",
            "Epoch 2: val_accuracy did not improve from 0.34840\n",
            "\u001b[1m782/782\u001b[0m \u001b[32m━━━━━━━━━━━━━━━━━━━━\u001b[0m\u001b[37m\u001b[0m \u001b[1m5s\u001b[0m 4ms/step - accuracy: 0.4284 - loss: 2.1715 - val_accuracy: 0.3394 - val_loss: 2.6497\n",
            "Epoch 3/30\n",
            "\u001b[1m771/782\u001b[0m \u001b[32m━━━━━━━━━━━━━━━━━━━\u001b[0m\u001b[37m━\u001b[0m \u001b[1m0s\u001b[0m 4ms/step - accuracy: 0.4347 - loss: 2.1476\n",
            "Epoch 3: val_accuracy did not improve from 0.34840\n",
            "\u001b[1m782/782\u001b[0m \u001b[32m━━━━━━━━━━━━━━━━━━━━\u001b[0m\u001b[37m\u001b[0m \u001b[1m4s\u001b[0m 5ms/step - accuracy: 0.4346 - loss: 2.1479 - val_accuracy: 0.3453 - val_loss: 2.6262\n",
            "Epoch 4/30\n",
            "\u001b[1m769/782\u001b[0m \u001b[32m━━━━━━━━━━━━━━━━━━━\u001b[0m\u001b[37m━\u001b[0m \u001b[1m0s\u001b[0m 3ms/step - accuracy: 0.4351 - loss: 2.1292\n",
            "Epoch 4: val_accuracy improved from 0.34840 to 0.35350, saving model to best_cnn_model_weights.weights.h5\n",
            "\u001b[1m782/782\u001b[0m \u001b[32m━━━━━━━━━━━━━━━━━━━━\u001b[0m\u001b[37m\u001b[0m \u001b[1m3s\u001b[0m 4ms/step - accuracy: 0.4351 - loss: 2.1296 - val_accuracy: 0.3535 - val_loss: 2.6154\n",
            "Epoch 5/30\n",
            "\u001b[1m782/782\u001b[0m \u001b[32m━━━━━━━━━━━━━━━━━━━━\u001b[0m\u001b[37m\u001b[0m \u001b[1m0s\u001b[0m 4ms/step - accuracy: 0.4435 - loss: 2.1032\n",
            "Epoch 5: val_accuracy did not improve from 0.35350\n",
            "\u001b[1m782/782\u001b[0m \u001b[32m━━━━━━━━━━━━━━━━━━━━\u001b[0m\u001b[37m\u001b[0m \u001b[1m3s\u001b[0m 4ms/step - accuracy: 0.4435 - loss: 2.1032 - val_accuracy: 0.3457 - val_loss: 2.6489\n",
            "Epoch 6/30\n",
            "\u001b[1m781/782\u001b[0m \u001b[32m━━━━━━━━━━━━━━━━━━━\u001b[0m\u001b[37m━\u001b[0m \u001b[1m0s\u001b[0m 4ms/step - accuracy: 0.4484 - loss: 2.0788\n",
            "Epoch 6: val_accuracy did not improve from 0.35350\n",
            "\u001b[1m782/782\u001b[0m \u001b[32m━━━━━━━━━━━━━━━━━━━━\u001b[0m\u001b[37m\u001b[0m \u001b[1m5s\u001b[0m 5ms/step - accuracy: 0.4484 - loss: 2.0789 - val_accuracy: 0.3479 - val_loss: 2.6473\n",
            "Epoch 7/30\n",
            "\u001b[1m780/782\u001b[0m \u001b[32m━━━━━━━━━━━━━━━━━━━\u001b[0m\u001b[37m━\u001b[0m \u001b[1m0s\u001b[0m 4ms/step - accuracy: 0.4536 - loss: 2.0511\n",
            "Epoch 7: val_accuracy did not improve from 0.35350\n",
            "\u001b[1m782/782\u001b[0m \u001b[32m━━━━━━━━━━━━━━━━━━━━\u001b[0m\u001b[37m\u001b[0m \u001b[1m5s\u001b[0m 4ms/step - accuracy: 0.4536 - loss: 2.0512 - val_accuracy: 0.3495 - val_loss: 2.6442\n",
            "Epoch 8/30\n",
            "\u001b[1m770/782\u001b[0m \u001b[32m━━━━━━━━━━━━━━━━━━━\u001b[0m\u001b[37m━\u001b[0m \u001b[1m0s\u001b[0m 3ms/step - accuracy: 0.4567 - loss: 2.0460\n",
            "Epoch 8: val_accuracy improved from 0.35350 to 0.35520, saving model to best_cnn_model_weights.weights.h5\n",
            "\u001b[1m782/782\u001b[0m \u001b[32m━━━━━━━━━━━━━━━━━━━━\u001b[0m\u001b[37m\u001b[0m \u001b[1m3s\u001b[0m 4ms/step - accuracy: 0.4566 - loss: 2.0463 - val_accuracy: 0.3552 - val_loss: 2.6216\n",
            "Epoch 9/30\n",
            "\u001b[1m773/782\u001b[0m \u001b[32m━━━━━━━━━━━━━━━━━━━\u001b[0m\u001b[37m━\u001b[0m \u001b[1m0s\u001b[0m 4ms/step - accuracy: 0.4562 - loss: 2.0283\n",
            "Epoch 9: val_accuracy did not improve from 0.35520\n",
            "\u001b[1m782/782\u001b[0m \u001b[32m━━━━━━━━━━━━━━━━━━━━\u001b[0m\u001b[37m\u001b[0m \u001b[1m6s\u001b[0m 5ms/step - accuracy: 0.4562 - loss: 2.0285 - val_accuracy: 0.3552 - val_loss: 2.6443\n",
            "Epoch 10/30\n",
            "\u001b[1m767/782\u001b[0m \u001b[32m━━━━━━━━━━━━━━━━━━━\u001b[0m\u001b[37m━\u001b[0m \u001b[1m0s\u001b[0m 3ms/step - accuracy: 0.4632 - loss: 2.0000\n",
            "Epoch 10: val_accuracy did not improve from 0.35520\n",
            "\u001b[1m782/782\u001b[0m \u001b[32m━━━━━━━━━━━━━━━━━━━━\u001b[0m\u001b[37m\u001b[0m \u001b[1m3s\u001b[0m 4ms/step - accuracy: 0.4631 - loss: 2.0006 - val_accuracy: 0.3540 - val_loss: 2.6702\n",
            "Epoch 11/30\n",
            "\u001b[1m775/782\u001b[0m \u001b[32m━━━━━━━━━━━━━━━━━━━\u001b[0m\u001b[37m━\u001b[0m \u001b[1m0s\u001b[0m 3ms/step - accuracy: 0.4724 - loss: 1.9852\n",
            "Epoch 11: val_accuracy improved from 0.35520 to 0.35780, saving model to best_cnn_model_weights.weights.h5\n",
            "\u001b[1m782/782\u001b[0m \u001b[32m━━━━━━━━━━━━━━━━━━━━\u001b[0m\u001b[37m\u001b[0m \u001b[1m3s\u001b[0m 4ms/step - accuracy: 0.4723 - loss: 1.9855 - val_accuracy: 0.3578 - val_loss: 2.6296\n",
            "Epoch 12/30\n",
            "\u001b[1m776/782\u001b[0m \u001b[32m━━━━━━━━━━━━━━━━━━━\u001b[0m\u001b[37m━\u001b[0m \u001b[1m0s\u001b[0m 4ms/step - accuracy: 0.4762 - loss: 1.9528\n",
            "Epoch 12: val_accuracy did not improve from 0.35780\n",
            "\u001b[1m782/782\u001b[0m \u001b[32m━━━━━━━━━━━━━━━━━━━━\u001b[0m\u001b[37m\u001b[0m \u001b[1m6s\u001b[0m 5ms/step - accuracy: 0.4761 - loss: 1.9531 - val_accuracy: 0.3548 - val_loss: 2.6449\n",
            "Epoch 13/30\n",
            "\u001b[1m774/782\u001b[0m \u001b[32m━━━━━━━━━━━━━━━━━━━\u001b[0m\u001b[37m━\u001b[0m \u001b[1m0s\u001b[0m 4ms/step - accuracy: 0.4736 - loss: 1.9571\n",
            "Epoch 13: val_accuracy did not improve from 0.35780\n",
            "\u001b[1m782/782\u001b[0m \u001b[32m━━━━━━━━━━━━━━━━━━━━\u001b[0m\u001b[37m\u001b[0m \u001b[1m5s\u001b[0m 4ms/step - accuracy: 0.4735 - loss: 1.9573 - val_accuracy: 0.3540 - val_loss: 2.6825\n",
            "Epoch 14/30\n",
            "\u001b[1m780/782\u001b[0m \u001b[32m━━━━━━━━━━━━━━━━━━━\u001b[0m\u001b[37m━\u001b[0m \u001b[1m0s\u001b[0m 4ms/step - accuracy: 0.4778 - loss: 1.9357\n",
            "Epoch 14: val_accuracy improved from 0.35780 to 0.35790, saving model to best_cnn_model_weights.weights.h5\n",
            "\u001b[1m782/782\u001b[0m \u001b[32m━━━━━━━━━━━━━━━━━━━━\u001b[0m\u001b[37m\u001b[0m \u001b[1m6s\u001b[0m 5ms/step - accuracy: 0.4778 - loss: 1.9358 - val_accuracy: 0.3579 - val_loss: 2.6442\n",
            "Basic CNN model training finished.\n"
          ]
        }
      ]
    },
    {
      "cell_type": "markdown",
      "source": [
        "# Train Deeper CNN Model"
      ],
      "metadata": {
        "id": "f0z7zz00qSJA"
      }
    },
    {
      "cell_type": "code",
      "source": [
        "print(\"Training Deeper CNN model...\")\n",
        "deeper_cnn_history = deeper_cnn_model.fit(\n",
        "    x_train_normalized,\n",
        "    y_train_onehot,\n",
        "    epochs=30,\n",
        "    batch_size=64,\n",
        "    validation_data=(x_test_normalized, y_test_onehot),\n",
        "    callbacks=[early_stopping, model_checkpoint_deeper_cnn]\n",
        ")\n",
        "print(\"Deeper CNN model training finished.\")"
      ],
      "metadata": {
        "colab": {
          "base_uri": "https://localhost:8080/"
        },
        "id": "SyhdgS8BqU_C",
        "outputId": "4fa7aabd-8353-4d5d-9ac2-faff85c8cd8a"
      },
      "execution_count": 79,
      "outputs": [
        {
          "output_type": "stream",
          "name": "stdout",
          "text": [
            "Training Deeper CNN model...\n",
            "Epoch 1/30\n",
            "\u001b[1m782/782\u001b[0m \u001b[32m━━━━━━━━━━━━━━━━━━━━\u001b[0m\u001b[37m\u001b[0m \u001b[1m0s\u001b[0m 7ms/step - accuracy: 0.6508 - loss: 1.1989\n",
            "Epoch 1: val_accuracy did not improve from 0.48980\n",
            "\u001b[1m782/782\u001b[0m \u001b[32m━━━━━━━━━━━━━━━━━━━━\u001b[0m\u001b[37m\u001b[0m \u001b[1m6s\u001b[0m 8ms/step - accuracy: 0.6508 - loss: 1.1989 - val_accuracy: 0.4782 - val_loss: 2.0774\n",
            "Epoch 2/30\n",
            "\u001b[1m778/782\u001b[0m \u001b[32m━━━━━━━━━━━━━━━━━━━\u001b[0m\u001b[37m━\u001b[0m \u001b[1m0s\u001b[0m 7ms/step - accuracy: 0.6601 - loss: 1.1553\n",
            "Epoch 2: val_accuracy improved from 0.48980 to 0.49000, saving model to best_deeper_cnn_model_weights.weights.h5\n",
            "\u001b[1m782/782\u001b[0m \u001b[32m━━━━━━━━━━━━━━━━━━━━\u001b[0m\u001b[37m\u001b[0m \u001b[1m6s\u001b[0m 8ms/step - accuracy: 0.6601 - loss: 1.1555 - val_accuracy: 0.4900 - val_loss: 2.0513\n",
            "Epoch 3/30\n",
            "\u001b[1m775/782\u001b[0m \u001b[32m━━━━━━━━━━━━━━━━━━━\u001b[0m\u001b[37m━\u001b[0m \u001b[1m0s\u001b[0m 7ms/step - accuracy: 0.6674 - loss: 1.1243\n",
            "Epoch 3: val_accuracy did not improve from 0.49000\n",
            "\u001b[1m782/782\u001b[0m \u001b[32m━━━━━━━━━━━━━━━━━━━━\u001b[0m\u001b[37m\u001b[0m \u001b[1m6s\u001b[0m 8ms/step - accuracy: 0.6673 - loss: 1.1246 - val_accuracy: 0.4873 - val_loss: 2.0622\n",
            "Epoch 4/30\n",
            "\u001b[1m775/782\u001b[0m \u001b[32m━━━━━━━━━━━━━━━━━━━\u001b[0m\u001b[37m━\u001b[0m \u001b[1m0s\u001b[0m 7ms/step - accuracy: 0.6761 - loss: 1.1037\n",
            "Epoch 4: val_accuracy did not improve from 0.49000\n",
            "\u001b[1m782/782\u001b[0m \u001b[32m━━━━━━━━━━━━━━━━━━━━\u001b[0m\u001b[37m\u001b[0m \u001b[1m6s\u001b[0m 8ms/step - accuracy: 0.6761 - loss: 1.1041 - val_accuracy: 0.4834 - val_loss: 2.0993\n",
            "Epoch 5/30\n",
            "\u001b[1m776/782\u001b[0m \u001b[32m━━━━━━━━━━━━━━━━━━━\u001b[0m\u001b[37m━\u001b[0m \u001b[1m0s\u001b[0m 7ms/step - accuracy: 0.6795 - loss: 1.0798\n",
            "Epoch 5: val_accuracy did not improve from 0.49000\n",
            "\u001b[1m782/782\u001b[0m \u001b[32m━━━━━━━━━━━━━━━━━━━━\u001b[0m\u001b[37m\u001b[0m \u001b[1m10s\u001b[0m 8ms/step - accuracy: 0.6794 - loss: 1.0800 - val_accuracy: 0.4789 - val_loss: 2.1496\n",
            "Epoch 6/30\n",
            "\u001b[1m776/782\u001b[0m \u001b[32m━━━━━━━━━━━━━━━━━━━\u001b[0m\u001b[37m━\u001b[0m \u001b[1m0s\u001b[0m 7ms/step - accuracy: 0.6832 - loss: 1.0611\n",
            "Epoch 6: val_accuracy did not improve from 0.49000\n",
            "\u001b[1m782/782\u001b[0m \u001b[32m━━━━━━━━━━━━━━━━━━━━\u001b[0m\u001b[37m\u001b[0m \u001b[1m10s\u001b[0m 8ms/step - accuracy: 0.6831 - loss: 1.0614 - val_accuracy: 0.4836 - val_loss: 2.0931\n",
            "Epoch 7/30\n",
            "\u001b[1m780/782\u001b[0m \u001b[32m━━━━━━━━━━━━━━━━━━━\u001b[0m\u001b[37m━\u001b[0m \u001b[1m0s\u001b[0m 7ms/step - accuracy: 0.6884 - loss: 1.0406\n",
            "Epoch 7: val_accuracy did not improve from 0.49000\n",
            "\u001b[1m782/782\u001b[0m \u001b[32m━━━━━━━━━━━━━━━━━━━━\u001b[0m\u001b[37m\u001b[0m \u001b[1m10s\u001b[0m 8ms/step - accuracy: 0.6884 - loss: 1.0408 - val_accuracy: 0.4835 - val_loss: 2.1482\n",
            "Epoch 8/30\n",
            "\u001b[1m776/782\u001b[0m \u001b[32m━━━━━━━━━━━━━━━━━━━\u001b[0m\u001b[37m━\u001b[0m \u001b[1m0s\u001b[0m 7ms/step - accuracy: 0.6968 - loss: 1.0341\n",
            "Epoch 8: val_accuracy did not improve from 0.49000\n",
            "\u001b[1m782/782\u001b[0m \u001b[32m━━━━━━━━━━━━━━━━━━━━\u001b[0m\u001b[37m\u001b[0m \u001b[1m6s\u001b[0m 8ms/step - accuracy: 0.6967 - loss: 1.0343 - val_accuracy: 0.4837 - val_loss: 2.1495\n",
            "Epoch 9/30\n",
            "\u001b[1m780/782\u001b[0m \u001b[32m━━━━━━━━━━━━━━━━━━━\u001b[0m\u001b[37m━\u001b[0m \u001b[1m0s\u001b[0m 7ms/step - accuracy: 0.7002 - loss: 1.0080\n",
            "Epoch 9: val_accuracy improved from 0.49000 to 0.49780, saving model to best_deeper_cnn_model_weights.weights.h5\n",
            "\u001b[1m782/782\u001b[0m \u001b[32m━━━━━━━━━━━━━━━━━━━━\u001b[0m\u001b[37m\u001b[0m \u001b[1m10s\u001b[0m 8ms/step - accuracy: 0.7002 - loss: 1.0081 - val_accuracy: 0.4978 - val_loss: 2.0926\n",
            "Epoch 10/30\n",
            "\u001b[1m781/782\u001b[0m \u001b[32m━━━━━━━━━━━━━━━━━━━\u001b[0m\u001b[37m━\u001b[0m \u001b[1m0s\u001b[0m 7ms/step - accuracy: 0.7058 - loss: 0.9784\n",
            "Epoch 10: val_accuracy did not improve from 0.49780\n",
            "\u001b[1m782/782\u001b[0m \u001b[32m━━━━━━━━━━━━━━━━━━━━\u001b[0m\u001b[37m\u001b[0m \u001b[1m10s\u001b[0m 8ms/step - accuracy: 0.7058 - loss: 0.9784 - val_accuracy: 0.4903 - val_loss: 2.0608\n",
            "Epoch 11/30\n",
            "\u001b[1m778/782\u001b[0m \u001b[32m━━━━━━━━━━━━━━━━━━━\u001b[0m\u001b[37m━\u001b[0m \u001b[1m0s\u001b[0m 7ms/step - accuracy: 0.7103 - loss: 0.9689\n",
            "Epoch 11: val_accuracy did not improve from 0.49780\n",
            "\u001b[1m782/782\u001b[0m \u001b[32m━━━━━━━━━━━━━━━━━━━━\u001b[0m\u001b[37m\u001b[0m \u001b[1m6s\u001b[0m 8ms/step - accuracy: 0.7103 - loss: 0.9690 - val_accuracy: 0.4944 - val_loss: 2.0691\n",
            "Epoch 12/30\n",
            "\u001b[1m779/782\u001b[0m \u001b[32m━━━━━━━━━━━━━━━━━━━\u001b[0m\u001b[37m━\u001b[0m \u001b[1m0s\u001b[0m 7ms/step - accuracy: 0.7182 - loss: 0.9481\n",
            "Epoch 12: val_accuracy did not improve from 0.49780\n",
            "\u001b[1m782/782\u001b[0m \u001b[32m━━━━━━━━━━━━━━━━━━━━\u001b[0m\u001b[37m\u001b[0m \u001b[1m6s\u001b[0m 8ms/step - accuracy: 0.7182 - loss: 0.9482 - val_accuracy: 0.4906 - val_loss: 2.1052\n",
            "Deeper CNN model training finished.\n"
          ]
        }
      ]
    },
    {
      "cell_type": "code",
      "source": [
        "deeper_cnn_history"
      ],
      "metadata": {
        "colab": {
          "base_uri": "https://localhost:8080/"
        },
        "id": "ijwPJmyeqh6n",
        "outputId": "95a358d9-f553-4b97-8c49-4621edbe24b3"
      },
      "execution_count": 80,
      "outputs": [
        {
          "output_type": "execute_result",
          "data": {
            "text/plain": [
              "<keras.src.callbacks.history.History at 0x7e944d1483b0>"
            ]
          },
          "metadata": {},
          "execution_count": 80
        }
      ]
    },
    {
      "cell_type": "markdown",
      "source": [
        "4.  **Model Evaluation:**\n",
        "    *   Evaluate the trained models on the CIFAR-100 test set. Compare their performance using loss and accuracy.\n",
        "    *   Visualize training history and confusion matrices."
      ],
      "metadata": {
        "id": "l7CCeQ3vdWIG"
      }
    },
    {
      "cell_type": "code",
      "source": [],
      "metadata": {
        "id": "2Vv8zh6adWac"
      },
      "execution_count": 80,
      "outputs": []
    },
    {
      "cell_type": "markdown",
      "source": [
        "\n",
        "\n",
        "Import utilities → Load weights (ANN, Deeper CNN) → Evaluate on test set → Get loss & accuracy → Print results"
      ],
      "metadata": {
        "id": "p7VnenQV00J-"
      }
    },
    {
      "cell_type": "code",
      "source": [
        "loss_cnn"
      ],
      "metadata": {
        "colab": {
          "base_uri": "https://localhost:8080/"
        },
        "id": "9G6cFvd3QHGd",
        "outputId": "c5870d40-dbe6-4e38-b377-b43c7ac7beb4"
      },
      "execution_count": 86,
      "outputs": [
        {
          "output_type": "execute_result",
          "data": {
            "text/plain": [
              "2.6441547870635986"
            ]
          },
          "metadata": {},
          "execution_count": 86
        }
      ]
    },
    {
      "cell_type": "code",
      "source": [
        "loss_ann"
      ],
      "metadata": {
        "colab": {
          "base_uri": "https://localhost:8080/"
        },
        "id": "2-a1Mxg1QK5P",
        "outputId": "e75ebf85-38b4-471d-c7b0-7b2aa9c7ebca"
      },
      "execution_count": 87,
      "outputs": [
        {
          "output_type": "execute_result",
          "data": {
            "text/plain": [
              "3.4202325344085693"
            ]
          },
          "metadata": {},
          "execution_count": 87
        }
      ]
    },
    {
      "cell_type": "code",
      "metadata": {
        "colab": {
          "base_uri": "https://localhost:8080/",
          "height": 727
        },
        "id": "80c0f0b0",
        "outputId": "25f8be9c-b78f-4e46-8d08-ba57c0c58d91"
      },
      "source": [
        "import matplotlib.pyplot as plt\n",
        "import numpy as np\n",
        "from sklearn.metrics import confusion_matrix, classification_report\n",
        "\n",
        "# Initialize lists to store performance metrics\n",
        "models = []\n",
        "losses = []\n",
        "accuracies = []\n",
        "\n",
        "# Evaluate ANN model\n",
        "try:\n",
        "    ann_model.load_weights('/content/best_ann_model_weights.weights.h5')\n",
        "    print(\"Successfully loaded weights for the ANN model.\")\n",
        "    loss_ann, accuracy_ann = ann_model.evaluate(x_test_normalized, y_test_onehot, verbose=0)\n",
        "    print(f\"ANN Model Test Loss: {loss_ann:.4f}\")\n",
        "    print(f\"ANN Model Test Accuracy: {accuracy_ann:.4f}\")\n",
        "    models.append('ANN')\n",
        "    losses.append(loss_ann)\n",
        "    accuracies.append(accuracy_ann)\n",
        "except Exception as e:\n",
        "    print(f\"Could not evaluate ANN model (error loading weights or evaluation): {e}\")\n",
        "\n",
        "\n",
        "# Evaluate Basic CNN model\n",
        "try:\n",
        "    basic_cnn_model.load_weights('/content/best_cnn_model_weights.weights.h5')\n",
        "    print(\"Successfully loaded weights for the Basic CNN model.\")\n",
        "    loss_cnn, accuracy_cnn = basic_cnn_model.evaluate(x_test_normalized, y_test_onehot, verbose=0)\n",
        "    print(f\"Basic CNN Model Test Loss: {loss_cnn:.4f}\")\n",
        "    print(f\"Basic CNN Model Test Accuracy: {accuracy_cnn:.4f}\")\n",
        "    models.append('Basic CNN')\n",
        "    losses.append(loss_cnn)\n",
        "    accuracies.append(accuracy_cnn)\n",
        "except Exception as e:\n",
        "    print(f\"Could not evaluate Basic CNN model (error loading weights or evaluation): {e}\")\n",
        "\n",
        "\n",
        "# Evaluate Deeper CNN model\n",
        "try:\n",
        "    # Attempt to load the best weights if available, otherwise use current model state\n",
        "    deeper_cnn_model.load_weights('/content/best_deeper_cnn_model_weights.weights.h5')\n",
        "    print(\"Successfully loaded weights for the Deeper CNN model.\")\n",
        "    loss_deeper_cnn, accuracy_deeper_cnn = deeper_cnn_model.evaluate(x_test_normalized, y_test_onehot, verbose=0)\n",
        "    print(f\"Deeper CNN Model Test Loss: {loss_deeper_cnn:.4f}\")\n",
        "    print(f\"Deeper CNN Model Test Accuracy: {accuracy_deeper_cnn:.4f}\")\n",
        "    models.append('Deeper CNN')\n",
        "    losses.append(loss_deeper_cnn)\n",
        "    accuracies.append(accuracy_deeper_cnn)\n",
        "except Exception as e:\n",
        "    print(f\"Could not evaluate Deeper CNN model (error loading weights or evaluation): {e}\")\n",
        "\n",
        "# --- Plotting ---\n",
        "if len(models) > 0: # Only plot if at least one model was evaluated\n",
        "    # Dark mode style\n",
        "    plt.style.use(\"dark_background\")\n",
        "\n",
        "    fig, axes = plt.subplots(1, 2, figsize=(12, 5))\n",
        "\n",
        "    # Loss plot\n",
        "    axes[0].bar(models, losses, color='#FF6F61', edgecolor='white')\n",
        "    axes[0].set_title('Model Test Loss', fontsize=14, fontweight='bold')\n",
        "    axes[0].set_ylabel('Loss', fontsize=12)\n",
        "    axes[0].grid(True, linestyle='--', alpha=0.4)\n",
        "    axes[0].set_ylim(0, max(losses) * 1.2 if max(losses) > 0 else 1.0) # Adjust y-limit for better visualization\n",
        "\n",
        "    # Accuracy plot\n",
        "    axes[1].bar(models, accuracies, color='#6BCB77', edgecolor='white')\n",
        "    axes[1].set_title('Model Test Accuracy', fontsize=14, fontweight='bold')\n",
        "    axes[1].set_ylabel('Accuracy', fontsize=12)\n",
        "    axes[1].grid(True, linestyle='--', alpha=0.4)\n",
        "    axes[1].set_ylim(0, 1.0) # Accuracy is between 0 and 1\n",
        "\n",
        "    # Overall title\n",
        "    plt.suptitle(\"✨ Model Performance Comparison ✨\", fontsize=16, fontweight='bold')\n",
        "\n",
        "    plt.tight_layout()\n",
        "    plt.show()\n",
        "else:\n",
        "    print(\"No models were successfully evaluated to plot.\")"
      ],
      "execution_count": 89,
      "outputs": [
        {
          "output_type": "stream",
          "name": "stdout",
          "text": [
            "Successfully loaded weights for the ANN model.\n",
            "ANN Model Test Loss: 3.4202\n",
            "ANN Model Test Accuracy: 0.2331\n",
            "Successfully loaded weights for the Basic CNN model.\n",
            "Basic CNN Model Test Loss: 2.6442\n",
            "Basic CNN Model Test Accuracy: 0.3579\n",
            "Successfully loaded weights for the Deeper CNN model.\n",
            "Deeper CNN Model Test Loss: 2.0926\n",
            "Deeper CNN Model Test Accuracy: 0.4978\n"
          ]
        },
        {
          "output_type": "stream",
          "name": "stderr",
          "text": [
            "/tmp/ipython-input-3596514882.py:110: UserWarning:\n",
            "\n",
            "Glyph 10024 (\\N{SPARKLES}) missing from font(s) DejaVu Sans.\n",
            "\n",
            "/usr/local/lib/python3.12/dist-packages/IPython/core/pylabtools.py:151: UserWarning:\n",
            "\n",
            "Glyph 10024 (\\N{SPARKLES}) missing from font(s) DejaVu Sans.\n",
            "\n"
          ]
        },
        {
          "output_type": "display_data",
          "data": {
            "text/plain": [
              "<Figure size 1200x500 with 2 Axes>"
            ],
            "image/png": "[encoded data removed]"
          },
          "metadata": {}
        }
      ]
    },
    {
      "cell_type": "code",
      "source": [],
      "metadata": {
        "id": "-vHzeAyHQNCb"
      },
      "execution_count": null,
      "outputs": []
    },
    {
      "cell_type": "markdown",
      "source": [
        "5.  **Prediction Analysis:**\n",
        "    *   Choose the best performing model and analyze its predictions on the CIFAR-100 test set.\n"
      ],
      "metadata": {
        "id": "CEhDu2gwdXNZ"
      }
    },
    {
      "cell_type": "code",
      "source": [],
      "metadata": {
        "id": "LN3oJffsdY24"
      },
      "execution_count": null,
      "outputs": []
    },
    {
      "cell_type": "markdown",
      "source": [
        "#### Model Comparison\n",
        "\n",
        "- Created a dataframe to store **test loss** and **test accuracy** for ANN, Basic CNN, and Deeper CNN.  \n",
        "- Plotted training history for each model (accuracy & loss vs. epochs).  \n",
        "- Helps compare how models learn and generalize over time.  "
      ],
      "metadata": {
        "id": "Z_96B2DvnRe2"
      }
    },
    {
      "cell_type": "code",
      "metadata": {
        "colab": {
          "base_uri": "https://localhost:8080/",
          "height": 537
        },
        "id": "3c8abd42",
        "outputId": "97f1fb1f-19d7-4970-c877-d46a030064f8"
      },
      "source": [
        "import plotly.graph_objects as go\n",
        "from plotly.subplots import make_subplots\n",
        "\n",
        "models = {\n",
        "    \"ANN\": (\"cyan\", ann_history),\n",
        "    \"Basic CNN\": (\"magenta\", basic_cnn_history),\n",
        "    \"Deeper CNN\": (\"yellow\", deeper_cnn_history)\n",
        "}\n",
        "\n",
        "performance_data = {\n",
        "    'Model': ['ANN', 'Basic CNN', 'Deeper CNN'],\n",
        "    'Test Loss': [loss_ann, loss_cnn, loss_deeper_cnn],\n",
        "    'Test Accuracy': [accuracy_ann, accuracy_cnn, accuracy_deeper_cnn]\n",
        "}\n",
        "\n",
        "performance_df = pd.DataFrame(performance_data)\n",
        "\n",
        "fig = make_subplots(rows=1, cols=2, subplot_titles=('Accuracy', 'Loss'))\n",
        "\n",
        "for name, (color, history) in models.items():\n",
        "    # Accuracy\n",
        "    fig.add_trace(go.Scatter(y=history.history['accuracy'], mode='lines',\n",
        "                             name=name, line=dict(color=color, dash='solid')), row=1, col=1)\n",
        "    fig.add_trace(go.Scatter(y=history.history['val_accuracy'], mode='lines',\n",
        "                             name=name, line=dict(color=color, dash='dot'), showlegend=False), row=1, col=1)\n",
        "\n",
        "    # Loss\n",
        "    fig.add_trace(go.Scatter(y=history.history['loss'], mode='lines',\n",
        "                             name=name, line=dict(color=color, dash='solid')), row=1, col=2)\n",
        "    fig.add_trace(go.Scatter(y=history.history['val_loss'], mode='lines',\n",
        "                             name=name, line=dict(color=color, dash='dot'), showlegend=False), row=1, col=2)\n",
        "\n",
        "fig.update_layout(\n",
        "    title_text=\"Model Comparison: Accuracy & Loss (Train=Solid, Val=Dot)\",\n",
        "    height=500,\n",
        "    width=1200,\n",
        "    template=\"plotly_dark\"\n",
        ")\n",
        "\n",
        "fig.show()"
      ],
      "execution_count": 93,
      "outputs": [
        {
          "output_type": "display_data",
          "data": {
            "text/html": [
              "<html>\n",
              "<head><meta charset=\"utf-8\" /></head>\n",
              "<body>\n",
              "    <div>            <script src=\"https://cdnjs.cloudflare.com/ajax/libs/mathjax/2.7.5/MathJax.js?config=TeX-AMS-MML_SVG\"></script><script type=\"text/javascript\">if (window.MathJax && window.MathJax.Hub && window.MathJax.Hub.Config) {window.MathJax.Hub.Config({SVG: {font: \"STIX-Web\"}});}</script>                <script type=\"text/javascript\">window.PlotlyConfig = {MathJaxConfig: 'local'};</script>\n",
              "        <script charset=\"utf-8\" src=\"https://cdn.plot.ly/plotly-2.35.2.min.js\"></script>                <div id=\"82ea12fb-7d75-4022-aa62-ce734eca7e41\" class=\"plotly-graph-div\" style=\"height:500px; width:1200px;\"></div>            <script type=\"text/javascript\">                                    window.PLOTLYENV=window.PLOTLYENV || {};                                    if (document.getElementById(\"82ea12fb-7d75-4022-aa62-ce734eca7e41\")) {                    Plotly.newPlot(                        \"82ea12fb-7d75-4022-aa62-ce734eca7e41\",                        [{\"line\":{\"color\":\"cyan\",\"dash\":\"solid\"},\"mode\":\"lines\",\"name\":\"ANN\",\"y\":[0.07034000009298325,0.13439999520778656,0.16269999742507935,0.18184000253677368,0.19777999818325043,0.20999999344348907,0.21889999508857727,0.2296999990940094,0.2359600067138672,0.24131999909877777,0.2489199936389923,0.2547599971294403,0.2601200044155121,0.2677200138568878,0.26829999685287476,0.27476000785827637,0.27983999252319336,0.28554001450538635,0.28905999660491943,0.2930000126361847,0.2985000014305115,0.3029400110244751,0.3050599992275238,0.3086400032043457,0.3150399923324585,0.31779998540878296,0.31972000002861023,0.32343998551368713,0.32510000467300415,0.33024001121520996],\"type\":\"scatter\",\"xaxis\":\"x\",\"yaxis\":\"y\"},{\"line\":{\"color\":\"cyan\",\"dash\":\"dot\"},\"mode\":\"lines\",\"name\":\"ANN\",\"showlegend\":false,\"y\":[0.11630000174045563,0.14669999480247498,0.15539999306201935,0.1784999966621399,0.18649999797344208,0.19789999723434448,0.19599999487400055,0.20659999549388885,0.21559999883174896,0.2167000025510788,0.2134999930858612,0.2159000039100647,0.22529999911785126,0.21940000355243683,0.21950000524520874,0.22779999673366547,0.23250000178813934,0.2168000042438507,0.2176000028848648,0.23119999468326569,0.22849999368190765,0.23309999704360962,0.225600004196167,0.2257000058889389,0.2305999994277954,0.23280000686645508,0.227400004863739,0.23109999299049377,0.2240000069141388,0.2223999947309494],\"type\":\"scatter\",\"xaxis\":\"x\",\"yaxis\":\"y\"},{\"line\":{\"color\":\"cyan\",\"dash\":\"solid\"},\"mode\":\"lines\",\"name\":\"ANN\",\"y\":[4.134514808654785,3.711162805557251,3.5432567596435547,3.4297115802764893,3.345903158187866,3.273810863494873,3.2240712642669678,3.1654019355773926,3.1338133811950684,3.091298818588257,3.0626003742218018,3.0337038040161133,2.998065710067749,2.9628138542175293,2.94633150100708,2.9174516201019287,2.889498710632324,2.8593122959136963,2.844620943069458,2.822042465209961,2.7975831031799316,2.7781550884246826,2.7619664669036865,2.7461202144622803,2.716343402862549,2.6982383728027344,2.6815109252929688,2.6651554107666016,2.65045428276062,2.639193534851074],\"type\":\"scatter\",\"xaxis\":\"x2\",\"yaxis\":\"y2\"},{\"line\":{\"color\":\"cyan\",\"dash\":\"dot\"},\"mode\":\"lines\",\"name\":\"ANN\",\"showlegend\":false,\"y\":[3.8382761478424072,3.6697425842285156,3.602710485458374,3.460808515548706,3.4393320083618164,3.421200752258301,3.3983542919158936,3.342458486557007,3.3226206302642822,3.334244966506958,3.318148136138916,3.3295881748199463,3.2902936935424805,3.3284993171691895,3.348858594894409,3.2902567386627197,3.277583599090576,3.3780124187469482,3.3685152530670166,3.3362576961517334,3.3661627769470215,3.420231342315674,3.3965914249420166,3.383328437805176,3.3943893909454346,3.402656316757202,3.482692241668701,3.430927276611328,3.5014967918395996,3.5303289890289307],\"type\":\"scatter\",\"xaxis\":\"x2\",\"yaxis\":\"y2\"},{\"line\":{\"color\":\"magenta\",\"dash\":\"solid\"},\"mode\":\"lines\",\"name\":\"Basic CNN\",\"y\":[0.4180600047111511,0.42493999004364014,0.4277400076389313,0.43171998858451843,0.43988001346588135,0.44255998730659485,0.4460799992084503,0.4500199854373932,0.4534600079059601,0.4578999876976013,0.46421998739242554,0.46584001183509827,0.4671800136566162,0.47157999873161316],\"type\":\"scatter\",\"xaxis\":\"x\",\"yaxis\":\"y\"},{\"line\":{\"color\":\"magenta\",\"dash\":\"dot\"},\"mode\":\"lines\",\"name\":\"Basic CNN\",\"showlegend\":false,\"y\":[0.3483999967575073,0.3393999934196472,0.34529998898506165,0.35350000858306885,0.3456999957561493,0.34790000319480896,0.34950000047683716,0.35519999265670776,0.35519999265670776,0.3540000021457672,0.3578000068664551,0.3547999858856201,0.3540000021457672,0.3578999936580658],\"type\":\"scatter\",\"xaxis\":\"x\",\"yaxis\":\"y\"},{\"line\":{\"color\":\"magenta\",\"dash\":\"solid\"},\"mode\":\"lines\",\"name\":\"Basic CNN\",\"y\":[2.2227389812469482,2.194960355758667,2.169524908065796,2.1500768661499023,2.11922025680542,2.102815866470337,2.082120418548584,2.065251350402832,2.0427463054656982,2.025707244873047,2.0095975399017334,1.9907326698303223,1.974607229232788,1.9575330018997192],\"type\":\"scatter\",\"xaxis\":\"x2\",\"yaxis\":\"y2\"},{\"line\":{\"color\":\"magenta\",\"dash\":\"dot\"},\"mode\":\"lines\",\"name\":\"Basic CNN\",\"showlegend\":false,\"y\":[2.6233248710632324,2.649689197540283,2.6262354850769043,2.6153814792633057,2.6488637924194336,2.6473379135131836,2.6442065238952637,2.621563673019409,2.6442720890045166,2.6701931953430176,2.629591703414917,2.6449360847473145,2.682460308074951,2.6441545486450195],\"type\":\"scatter\",\"xaxis\":\"x2\",\"yaxis\":\"y2\"},{\"line\":{\"color\":\"yellow\",\"dash\":\"solid\"},\"mode\":\"lines\",\"name\":\"Deeper CNN\",\"y\":[0.6430000066757202,0.6520599722862244,0.6593800187110901,0.6678000092506409,0.6729599833488464,0.6776000261306763,0.6827200055122375,0.6899799704551697,0.6955199837684631,0.6995199918746948,0.7037799954414368,0.7103999853134155],\"type\":\"scatter\",\"xaxis\":\"x\",\"yaxis\":\"y\"},{\"line\":{\"color\":\"yellow\",\"dash\":\"dot\"},\"mode\":\"lines\",\"name\":\"Deeper CNN\",\"showlegend\":false,\"y\":[0.4781999886035919,0.49000000953674316,0.48730000853538513,0.48339998722076416,0.4788999855518341,0.483599990606308,0.48350000381469727,0.4837000072002411,0.49779999256134033,0.4902999997138977,0.4943999946117401,0.49059998989105225],\"type\":\"scatter\",\"xaxis\":\"x\",\"yaxis\":\"y\"},{\"line\":{\"color\":\"yellow\",\"dash\":\"solid\"},\"mode\":\"lines\",\"name\":\"Deeper CNN\",\"y\":[1.2279393672943115,1.1853302717208862,1.1592384576797485,1.1365431547164917,1.109431505203247,1.0891550779342651,1.0706827640533447,1.052157998085022,1.0300352573394775,1.0028995275497437,0.9842007160186768,0.977563202381134],\"type\":\"scatter\",\"xaxis\":\"x2\",\"yaxis\":\"y2\"},{\"line\":{\"color\":\"yellow\",\"dash\":\"dot\"},\"mode\":\"lines\",\"name\":\"Deeper CNN\",\"showlegend\":false,\"y\":[2.077354669570923,2.051281213760376,2.062215805053711,2.0992655754089355,2.1496100425720215,2.0931265354156494,2.1481611728668213,2.1494803428649902,2.0925650596618652,2.0608322620391846,2.069148540496826,2.105191707611084],\"type\":\"scatter\",\"xaxis\":\"x2\",\"yaxis\":\"y2\"}],                        {\"template\":{\"data\":{\"barpolar\":[{\"marker\":{\"line\":{\"color\":\"rgb(17,17,17)\",\"width\":0.5},\"pattern\":{\"fillmode\":\"overlay\",\"size\":10,\"solidity\":0.2}},\"type\":\"barpolar\"}],\"bar\":[{\"error_x\":{\"color\":\"#f2f5fa\"},\"error_y\":{\"color\":\"#f2f5fa\"},\"marker\":{\"line\":{\"color\":\"rgb(17,17,17)\",\"width\":0.5},\"pattern\":{\"fillmode\":\"overlay\",\"size\":10,\"solidity\":0.2}},\"type\":\"bar\"}],\"carpet\":[{\"aaxis\":{\"endlinecolor\":\"#A2B1C6\",\"gridcolor\":\"#506784\",\"linecolor\":\"#506784\",\"minorgridcolor\":\"#506784\",\"startlinecolor\":\"#A2B1C6\"},\"baxis\":{\"endlinecolor\":\"#A2B1C6\",\"gridcolor\":\"#506784\",\"linecolor\":\"#506784\",\"minorgridcolor\":\"#506784\",\"startlinecolor\":\"#A2B1C6\"},\"type\":\"carpet\"}],\"choropleth\":[{\"colorbar\":{\"outlinewidth\":0,\"ticks\":\"\"},\"type\":\"choropleth\"}],\"contourcarpet\":[{\"colorbar\":{\"outlinewidth\":0,\"ticks\":\"\"},\"type\":\"contourcarpet\"}],\"contour\":[{\"colorbar\":{\"outlinewidth\":0,\"ticks\":\"\"},\"colorscale\":[[0.0,\"#0d0887\"],[0.1111111111111111,\"#46039f\"],[0.2222222222222222,\"#7201a8\"],[0.3333333333333333,\"#9c179e\"],[0.4444444444444444,\"#bd3786\"],[0.5555555555555556,\"#d8576b\"],[0.6666666666666666,\"#ed7953\"],[0.7777777777777778,\"#fb9f3a\"],[0.8888888888888888,\"#fdca26\"],[1.0,\"#f0f921\"]],\"type\":\"contour\"}],\"heatmapgl\":[{\"colorbar\":{\"outlinewidth\":0,\"ticks\":\"\"},\"colorscale\":[[0.0,\"#0d0887\"],[0.1111111111111111,\"#46039f\"],[0.2222222222222222,\"#7201a8\"],[0.3333333333333333,\"#9c179e\"],[0.4444444444444444,\"#bd3786\"],[0.5555555555555556,\"#d8576b\"],[0.6666666666666666,\"#ed7953\"],[0.7777777777777778,\"#fb9f3a\"],[0.8888888888888888,\"#fdca26\"],[1.0,\"#f0f921\"]],\"type\":\"heatmapgl\"}],\"heatmap\":[{\"colorbar\":{\"outlinewidth\":0,\"ticks\":\"\"},\"colorscale\":[[0.0,\"#0d0887\"],[0.1111111111111111,\"#46039f\"],[0.2222222222222222,\"#7201a8\"],[0.3333333333333333,\"#9c179e\"],[0.4444444444444444,\"#bd3786\"],[0.5555555555555556,\"#d8576b\"],[0.6666666666666666,\"#ed7953\"],[0.7777777777777778,\"#fb9f3a\"],[0.8888888888888888,\"#fdca26\"],[1.0,\"#f0f921\"]],\"type\":\"heatmap\"}],\"histogram2dcontour\":[{\"colorbar\":{\"outlinewidth\":0,\"ticks\":\"\"},\"colorscale\":[[0.0,\"#0d0887\"],[0.1111111111111111,\"#46039f\"],[0.2222222222222222,\"#7201a8\"],[0.3333333333333333,\"#9c179e\"],[0.4444444444444444,\"#bd3786\"],[0.5555555555555556,\"#d8576b\"],[0.6666666666666666,\"#ed7953\"],[0.7777777777777778,\"#fb9f3a\"],[0.8888888888888888,\"#fdca26\"],[1.0,\"#f0f921\"]],\"type\":\"histogram2dcontour\"}],\"histogram2d\":[{\"colorbar\":{\"outlinewidth\":0,\"ticks\":\"\"},\"colorscale\":[[0.0,\"#0d0887\"],[0.1111111111111111,\"#46039f\"],[0.2222222222222222,\"#7201a8\"],[0.3333333333333333,\"#9c179e\"],[0.4444444444444444,\"#bd3786\"],[0.5555555555555556,\"#d8576b\"],[0.6666666666666666,\"#ed7953\"],[0.7777777777777778,\"#fb9f3a\"],[0.8888888888888888,\"#fdca26\"],[1.0,\"#f0f921\"]],\"type\":\"histogram2d\"}],\"histogram\":[{\"marker\":{\"pattern\":{\"fillmode\":\"overlay\",\"size\":10,\"solidity\":0.2}},\"type\":\"histogram\"}],\"mesh3d\":[{\"colorbar\":{\"outlinewidth\":0,\"ticks\":\"\"},\"type\":\"mesh3d\"}],\"parcoords\":[{\"line\":{\"colorbar\":{\"outlinewidth\":0,\"ticks\":\"\"}},\"type\":\"parcoords\"}],\"pie\":[{\"automargin\":true,\"type\":\"pie\"}],\"scatter3d\":[{\"line\":{\"colorbar\":{\"outlinewidth\":0,\"ticks\":\"\"}},\"marker\":{\"colorbar\":{\"outlinewidth\":0,\"ticks\":\"\"}},\"type\":\"scatter3d\"}],\"scattercarpet\":[{\"marker\":{\"colorbar\":{\"outlinewidth\":0,\"ticks\":\"\"}},\"type\":\"scattercarpet\"}],\"scattergeo\":[{\"marker\":{\"colorbar\":{\"outlinewidth\":0,\"ticks\":\"\"}},\"type\":\"scattergeo\"}],\"scattergl\":[{\"marker\":{\"line\":{\"color\":\"#283442\"}},\"type\":\"scattergl\"}],\"scattermapbox\":[{\"marker\":{\"colorbar\":{\"outlinewidth\":0,\"ticks\":\"\"}},\"type\":\"scattermapbox\"}],\"scatterpolargl\":[{\"marker\":{\"colorbar\":{\"outlinewidth\":0,\"ticks\":\"\"}},\"type\":\"scatterpolargl\"}],\"scatterpolar\":[{\"marker\":{\"colorbar\":{\"outlinewidth\":0,\"ticks\":\"\"}},\"type\":\"scatterpolar\"}],\"scatter\":[{\"marker\":{\"line\":{\"color\":\"#283442\"}},\"type\":\"scatter\"}],\"scatterternary\":[{\"marker\":{\"colorbar\":{\"outlinewidth\":0,\"ticks\":\"\"}},\"type\":\"scatterternary\"}],\"surface\":[{\"colorbar\":{\"outlinewidth\":0,\"ticks\":\"\"},\"colorscale\":[[0.0,\"#0d0887\"],[0.1111111111111111,\"#46039f\"],[0.2222222222222222,\"#7201a8\"],[0.3333333333333333,\"#9c179e\"],[0.4444444444444444,\"#bd3786\"],[0.5555555555555556,\"#d8576b\"],[0.6666666666666666,\"#ed7953\"],[0.7777777777777778,\"#fb9f3a\"],[0.8888888888888888,\"#fdca26\"],[1.0,\"#f0f921\"]],\"type\":\"surface\"}],\"table\":[{\"cells\":{\"fill\":{\"color\":\"#506784\"},\"line\":{\"color\":\"rgb(17,17,17)\"}},\"header\":{\"fill\":{\"color\":\"#2a3f5f\"},\"line\":{\"color\":\"rgb(17,17,17)\"}},\"type\":\"table\"}]},\"layout\":{\"annotationdefaults\":{\"arrowcolor\":\"#f2f5fa\",\"arrowhead\":0,\"arrowwidth\":1},\"autotypenumbers\":\"strict\",\"coloraxis\":{\"colorbar\":{\"outlinewidth\":0,\"ticks\":\"\"}},\"colorscale\":{\"diverging\":[[0,\"#8e0152\"],[0.1,\"#c51b7d\"],[0.2,\"#de77ae\"],[0.3,\"#f1b6da\"],[0.4,\"#fde0ef\"],[0.5,\"#f7f7f7\"],[0.6,\"#e6f5d0\"],[0.7,\"#b8e186\"],[0.8,\"#7fbc41\"],[0.9,\"#4d9221\"],[1,\"#276419\"]],\"sequential\":[[0.0,\"#0d0887\"],[0.1111111111111111,\"#46039f\"],[0.2222222222222222,\"#7201a8\"],[0.3333333333333333,\"#9c179e\"],[0.4444444444444444,\"#bd3786\"],[0.5555555555555556,\"#d8576b\"],[0.6666666666666666,\"#ed7953\"],[0.7777777777777778,\"#fb9f3a\"],[0.8888888888888888,\"#fdca26\"],[1.0,\"#f0f921\"]],\"sequentialminus\":[[0.0,\"#0d0887\"],[0.1111111111111111,\"#46039f\"],[0.2222222222222222,\"#7201a8\"],[0.3333333333333333,\"#9c179e\"],[0.4444444444444444,\"#bd3786\"],[0.5555555555555556,\"#d8576b\"],[0.6666666666666666,\"#ed7953\"],[0.7777777777777778,\"#fb9f3a\"],[0.8888888888888888,\"#fdca26\"],[1.0,\"#f0f921\"]]},\"colorway\":[\"#636efa\",\"#EF553B\",\"#00cc96\",\"#ab63fa\",\"#FFA15A\",\"#19d3f3\",\"#FF6692\",\"#B6E880\",\"#FF97FF\",\"#FECB52\"],\"font\":{\"color\":\"#f2f5fa\"},\"geo\":{\"bgcolor\":\"rgb(17,17,17)\",\"lakecolor\":\"rgb(17,17,17)\",\"landcolor\":\"rgb(17,17,17)\",\"showlakes\":true,\"showland\":true,\"subunitcolor\":\"#506784\"},\"hoverlabel\":{\"align\":\"left\"},\"hovermode\":\"closest\",\"mapbox\":{\"style\":\"dark\"},\"paper_bgcolor\":\"rgb(17,17,17)\",\"plot_bgcolor\":\"rgb(17,17,17)\",\"polar\":{\"angularaxis\":{\"gridcolor\":\"#506784\",\"linecolor\":\"#506784\",\"ticks\":\"\"},\"bgcolor\":\"rgb(17,17,17)\",\"radialaxis\":{\"gridcolor\":\"#506784\",\"linecolor\":\"#506784\",\"ticks\":\"\"}},\"scene\":{\"xaxis\":{\"backgroundcolor\":\"rgb(17,17,17)\",\"gridcolor\":\"#506784\",\"gridwidth\":2,\"linecolor\":\"#506784\",\"showbackground\":true,\"ticks\":\"\",\"zerolinecolor\":\"#C8D4E3\"},\"yaxis\":{\"backgroundcolor\":\"rgb(17,17,17)\",\"gridcolor\":\"#506784\",\"gridwidth\":2,\"linecolor\":\"#506784\",\"showbackground\":true,\"ticks\":\"\",\"zerolinecolor\":\"#C8D4E3\"},\"zaxis\":{\"backgroundcolor\":\"rgb(17,17,17)\",\"gridcolor\":\"#506784\",\"gridwidth\":2,\"linecolor\":\"#506784\",\"showbackground\":true,\"ticks\":\"\",\"zerolinecolor\":\"#C8D4E3\"}},\"shapedefaults\":{\"line\":{\"color\":\"#f2f5fa\"}},\"sliderdefaults\":{\"bgcolor\":\"#C8D4E3\",\"bordercolor\":\"rgb(17,17,17)\",\"borderwidth\":1,\"tickwidth\":0},\"ternary\":{\"aaxis\":{\"gridcolor\":\"#506784\",\"linecolor\":\"#506784\",\"ticks\":\"\"},\"baxis\":{\"gridcolor\":\"#506784\",\"linecolor\":\"#506784\",\"ticks\":\"\"},\"bgcolor\":\"rgb(17,17,17)\",\"caxis\":{\"gridcolor\":\"#506784\",\"linecolor\":\"#506784\",\"ticks\":\"\"}},\"title\":{\"x\":0.05},\"updatemenudefaults\":{\"bgcolor\":\"#506784\",\"borderwidth\":0},\"xaxis\":{\"automargin\":true,\"gridcolor\":\"#283442\",\"linecolor\":\"#506784\",\"ticks\":\"\",\"title\":{\"standoff\":15},\"zerolinecolor\":\"#283442\",\"zerolinewidth\":2},\"yaxis\":{\"automargin\":true,\"gridcolor\":\"#283442\",\"linecolor\":\"#506784\",\"ticks\":\"\",\"title\":{\"standoff\":15},\"zerolinecolor\":\"#283442\",\"zerolinewidth\":2}}},\"xaxis\":{\"anchor\":\"y\",\"domain\":[0.0,0.45]},\"yaxis\":{\"anchor\":\"x\",\"domain\":[0.0,1.0]},\"xaxis2\":{\"anchor\":\"y2\",\"domain\":[0.55,1.0]},\"yaxis2\":{\"anchor\":\"x2\",\"domain\":[0.0,1.0]},\"annotations\":[{\"font\":{\"size\":16},\"showarrow\":false,\"text\":\"Accuracy\",\"x\":0.225,\"xanchor\":\"center\",\"xref\":\"paper\",\"y\":1.0,\"yanchor\":\"bottom\",\"yref\":\"paper\"},{\"font\":{\"size\":16},\"showarrow\":false,\"text\":\"Loss\",\"x\":0.775,\"xanchor\":\"center\",\"xref\":\"paper\",\"y\":1.0,\"yanchor\":\"bottom\",\"yref\":\"paper\"}],\"title\":{\"text\":\"Model Comparison: Accuracy & Loss (Train=Solid, Val=Dot)\"},\"height\":500,\"width\":1200},                        {\"responsive\": true}                    ).then(function(){\n",
              "                            \n",
              "var gd = document.getElementById('82ea12fb-7d75-4022-aa62-ce734eca7e41');\n",
              "var x = new MutationObserver(function (mutations, observer) {{\n",
              "        var display = window.getComputedStyle(gd).display;\n",
              "        if (!display || display === 'none') {{\n",
              "            console.log([gd, 'removed!']);\n",
              "            Plotly.purge(gd);\n",
              "            observer.disconnect();\n",
              "        }}\n",
              "}});\n",
              "\n",
              "// Listen for the removal of the full notebook cells\n",
              "var notebookContainer = gd.closest('#notebook-container');\n",
              "if (notebookContainer) {{\n",
              "    x.observe(notebookContainer, {childList: true});\n",
              "}}\n",
              "\n",
              "// Listen for the clearing of the current output cell\n",
              "var outputEl = gd.closest('.output');\n",
              "if (outputEl) {{\n",
              "    x.observe(outputEl, {childList: true});\n",
              "}}\n",
              "\n",
              "                        })                };                            </script>        </div>\n",
              "</body>\n",
              "</html>"
            ]
          },
          "metadata": {}
        }
      ]
    },
    {
      "cell_type": "code",
      "source": [],
      "metadata": {
        "id": "SUSLCEe5zEaV"
      },
      "execution_count": 90,
      "outputs": []
    },
    {
      "cell_type": "markdown",
      "metadata": {
        "id": "8901b6fe"
      },
      "source": [
        "### Prediction Analysis for Deeper CNN Model\n",
        "\n",
        "Now that we have evaluated the Deeper CNN model, let's analyze its predictions on the test set to get a better understanding of its performance beyond just overall accuracy. We will look at the classification report and visualize some predictions."
      ]
    },
    {
      "cell_type": "code",
      "metadata": {
        "colab": {
          "base_uri": "https://localhost:8080/",
          "height": 1000
        },
        "id": "351f951a",
        "outputId": "883231af-ef8c-4b38-8461-2490d36b2d0e"
      },
      "source": [
        "# Get predictions from the Deeper CNN model on the test set\n",
        "y_pred_onehot = deeper_cnn_model.predict(x_test_normalized)\n",
        "\n",
        "# Convert predictions from one-hot encoded to class indices\n",
        "y_pred_classes = np.argmax(y_pred_onehot, axis=1)\n",
        "y_true_classes = np.argmax(y_test_onehot, axis=1) # Convert true labels to class indices\n",
        "\n",
        "# Generate Classification Report\n",
        "print(\"Classification Report for Deeper CNN Model:\")\n",
        "print(classification_report(y_true_classes, y_pred_classes))\n",
        "\n",
        "# Generate Confusion Matrix\n",
        "# Note: For 100 classes, the confusion matrix will be very large.\n",
        "# We can visualize a sample or a heatmap of a subset if needed.\n",
        "conf_matrix = confusion_matrix(y_true_classes, y_pred_classes)\n",
        "print(\"Confusion Matrix Shape:\", conf_matrix.shape)\n",
        "\n",
        "# Display some sample test images with predictions\n",
        "cifar100_labels = [\n",
        "    'apple', 'aquarium_fish', 'baby', 'bear', 'beaver', 'bed', 'bee', 'beetle',\n",
        "    'bicycle', 'bottle', 'bowl', 'boy', 'bridge', 'bus', 'butterfly', 'camel',\n",
        "    'can', 'castle', 'caterpillar', 'cattle', 'chair', 'chimpanzee', 'clock',\n",
        "    'cloud', 'cockroach', 'couch', 'crab', 'crocodile', 'cup', 'dinosaur',\n",
        "    'dolphin', 'elephant', 'fern', 'finch', 'forest', 'fox', 'garden_shrub',\n",
        "    'garden_tools', 'girl', 'gloves', 'goat', 'goldfish', 'grass', 'guitar',\n",
        "    'hamburger', 'hamster', 'house', 'kangaroo', 'keyboard', 'lamp', 'lawn_mower',\n",
        "    'leopard', 'lion', 'lizard', 'lobster', 'man', 'maple_tree', 'motorcycle',\n",
        "    'mountain', 'mouse', 'mushroom', 'oak_tree', 'orange', 'orchid', 'otter',\n",
        "    'palm_tree', 'pear', 'pickup_truck', 'pine_tree', 'plain', 'plate', 'poppy',\n",
        "    'porcupine', 'possum', 'rabbit', 'raccoon', 'ray', 'road', 'rocket', 'rose',\n",
        "    'sea', 'seal', 'shark', 'shrew', 'skunk', 'skyscraper', 'snail', 'snake',\n",
        "    'spider', 'squirrel', 'stockings', 'sunflower', 'sweet_pepper', 'table',\n",
        "    'tank', 'telephone', 'television', 'tiger', 'tractor', 'train', 'trout',\n",
        "    'tulip', 'turtle', 'wardrobe', 'whale', 'willow_tree', 'wolf', 'woman',\n",
        "    'worm'\n",
        "] # CIFAR-100 coarse labels are different, these are the fine-grained labels\n",
        "\n",
        "\n",
        "# Function to display images with predictions\n",
        "def plot_predictions(images, true_labels, predicted_labels, label_names, num_images=10):\n",
        "    plt.figure(figsize=(15, 10))\n",
        "    for i in range(num_images):\n",
        "        plt.subplot(2, 5, i + 1)\n",
        "        plt.imshow(images[i])\n",
        "        true_label = label_names[true_labels[i]]\n",
        "        predicted_label = label_names[predicted_labels[i]]\n",
        "        color = 'green' if true_labels[i] == predicted_labels[i] else 'red'\n",
        "        plt.title(f\"True: {true_label}\\nPred: {predicted_label}\", color=color)\n",
        "        plt.axis('off')\n",
        "    plt.tight_layout()\n",
        "    plt.show()\n",
        "\n",
        "# Display a few correct and incorrect predictions\n",
        "print(\"\\nSample Test Images with Predictions:\")\n",
        "\n",
        "# Find indices of correctly and incorrectly predicted images\n",
        "correct_indices = np.where(y_true_classes == y_pred_classes)[0]\n",
        "incorrect_indices = np.where(y_true_classes != y_pred_classes)[0]\n",
        "\n",
        "# Display some correct predictions\n",
        "print(\"\\nCorrect Predictions:\")\n",
        "if len(correct_indices) > 10:\n",
        "    sample_correct_indices = np.random.choice(correct_indices, 10, replace=False)\n",
        "else:\n",
        "    sample_correct_indices = correct_indices\n",
        "plot_predictions(x_test, y_true_classes[sample_correct_indices], y_pred_classes[sample_correct_indices], cifar100_labels, num_images=len(sample_correct_indices))\n",
        "\n",
        "# Display some incorrect predictions\n",
        "print(\"\\nIncorrect Predictions:\")\n",
        "if len(incorrect_indices) > 10:\n",
        "    sample_incorrect_indices = np.random.choice(incorrect_indices, 10, replace=False)\n",
        "else:\n",
        "    sample_incorrect_indices = incorrect_indices\n",
        "plot_predictions(x_test, y_true_classes[sample_incorrect_indices], y_pred_classes[sample_incorrect_indices], cifar100_labels, num_images=len(sample_incorrect_indices))"
      ],
      "execution_count": 91,
      "outputs": [
        {
          "output_type": "stream",
          "name": "stdout",
          "text": [
            "\u001b[1m313/313\u001b[0m \u001b[32m━━━━━━━━━━━━━━━━━━━━\u001b[0m\u001b[37m\u001b[0m \u001b[1m2s\u001b[0m 4ms/step\n",
            "Classification Report for Deeper CNN Model:\n",
            "              precision    recall  f1-score   support\n",
            "\n",
            "           0       0.82      0.72      0.77       100\n",
            "           1       0.59      0.55      0.57       100\n",
            "           2       0.36      0.43      0.39       100\n",
            "           3       0.27      0.20      0.23       100\n",
            "           4       0.28      0.36      0.32       100\n",
            "           5       0.43      0.43      0.43       100\n",
            "           6       0.55      0.57      0.56       100\n",
            "           7       0.50      0.51      0.51       100\n",
            "           8       0.70      0.64      0.67       100\n",
            "           9       0.71      0.67      0.69       100\n",
            "          10       0.43      0.33      0.38       100\n",
            "          11       0.37      0.28      0.32       100\n",
            "          12       0.54      0.48      0.51       100\n",
            "          13       0.42      0.35      0.38       100\n",
            "          14       0.44      0.42      0.43       100\n",
            "          15       0.51      0.48      0.49       100\n",
            "          16       0.50      0.55      0.53       100\n",
            "          17       0.51      0.77      0.62       100\n",
            "          18       0.49      0.39      0.44       100\n",
            "          19       0.40      0.37      0.38       100\n",
            "          20       0.77      0.76      0.76       100\n",
            "          21       0.60      0.62      0.61       100\n",
            "          22       0.47      0.39      0.43       100\n",
            "          23       0.67      0.59      0.63       100\n",
            "          24       0.66      0.73      0.70       100\n",
            "          25       0.36      0.35      0.36       100\n",
            "          26       0.50      0.47      0.48       100\n",
            "          27       0.30      0.35      0.33       100\n",
            "          28       0.67      0.70      0.68       100\n",
            "          29       0.51      0.40      0.45       100\n",
            "          30       0.49      0.44      0.47       100\n",
            "          31       0.50      0.48      0.49       100\n",
            "          32       0.48      0.42      0.45       100\n",
            "          33       0.41      0.62      0.49       100\n",
            "          34       0.45      0.45      0.45       100\n",
            "          35       0.31      0.34      0.32       100\n",
            "          36       0.59      0.52      0.55       100\n",
            "          37       0.38      0.45      0.41       100\n",
            "          38       0.32      0.40      0.36       100\n",
            "          39       0.74      0.54      0.62       100\n",
            "          40       0.45      0.41      0.43       100\n",
            "          41       0.69      0.74      0.71       100\n",
            "          42       0.39      0.63      0.48       100\n",
            "          43       0.41      0.59      0.48       100\n",
            "          44       0.21      0.18      0.19       100\n",
            "          45       0.31      0.32      0.32       100\n",
            "          46       0.38      0.27      0.31       100\n",
            "          47       0.52      0.60      0.56       100\n",
            "          48       0.77      0.80      0.78       100\n",
            "          49       0.72      0.56      0.63       100\n",
            "          50       0.26      0.26      0.26       100\n",
            "          51       0.54      0.46      0.50       100\n",
            "          52       0.54      0.63      0.58       100\n",
            "          53       0.70      0.77      0.73       100\n",
            "          54       0.61      0.59      0.60       100\n",
            "          55       0.20      0.12      0.15       100\n",
            "          56       0.68      0.67      0.67       100\n",
            "          57       0.53      0.52      0.52       100\n",
            "          58       0.70      0.60      0.65       100\n",
            "          59       0.52      0.43      0.47       100\n",
            "          60       0.69      0.88      0.78       100\n",
            "          61       0.55      0.57      0.56       100\n",
            "          62       0.56      0.53      0.55       100\n",
            "          63       0.50      0.48      0.49       100\n",
            "          64       0.30      0.18      0.22       100\n",
            "          65       0.37      0.31      0.34       100\n",
            "          66       0.38      0.33      0.35       100\n",
            "          67       0.41      0.33      0.36       100\n",
            "          68       0.79      0.77      0.78       100\n",
            "          69       0.60      0.67      0.64       100\n",
            "          70       0.59      0.47      0.52       100\n",
            "          71       0.67      0.64      0.66       100\n",
            "          72       0.23      0.25      0.24       100\n",
            "          73       0.43      0.43      0.43       100\n",
            "          74       0.43      0.28      0.34       100\n",
            "          75       0.77      0.70      0.73       100\n",
            "          76       0.72      0.79      0.75       100\n",
            "          77       0.32      0.25      0.28       100\n",
            "          78       0.37      0.29      0.32       100\n",
            "          79       0.48      0.48      0.48       100\n",
            "          80       0.20      0.37      0.26       100\n",
            "          81       0.41      0.60      0.48       100\n",
            "          82       0.64      0.76      0.70       100\n",
            "          83       0.50      0.41      0.45       100\n",
            "          84       0.45      0.40      0.43       100\n",
            "          85       0.53      0.76      0.63       100\n",
            "          86       0.66      0.55      0.60       100\n",
            "          87       0.51      0.66      0.57       100\n",
            "          88       0.46      0.61      0.52       100\n",
            "          89       0.39      0.63      0.48       100\n",
            "          90       0.48      0.41      0.44       100\n",
            "          91       0.64      0.55      0.59       100\n",
            "          92       0.34      0.43      0.38       100\n",
            "          93       0.46      0.35      0.40       100\n",
            "          94       0.76      0.81      0.78       100\n",
            "          95       0.59      0.54      0.56       100\n",
            "          96       0.46      0.43      0.45       100\n",
            "          97       0.40      0.49      0.44       100\n",
            "          98       0.34      0.22      0.27       100\n",
            "          99       0.63      0.50      0.56       100\n",
            "\n",
            "    accuracy                           0.50     10000\n",
            "   macro avg       0.50      0.50      0.49     10000\n",
            "weighted avg       0.50      0.50      0.49     10000\n",
            "\n",
            "Confusion Matrix Shape: (100, 100)\n",
            "\n",
            "Sample Test Images with Predictions:\n",
            "\n",
            "Correct Predictions:\n"
          ]
        },
        {
          "output_type": "display_data",
          "data": {
            "text/plain": [
              "<Figure size 1500x1000 with 10 Axes>"
            ],
            "image/png": "[encoded data removed]"
          },
          "metadata": {}
        },
        {
          "output_type": "stream",
          "name": "stdout",
          "text": [
            "\n",
            "Incorrect Predictions:\n"
          ]
        },
        {
          "output_type": "display_data",
          "data": {
            "text/plain": [
              "<Figure size 1500x1000 with 10 Axes>"
            ],
            "image/png": "[encoded data removed]"
          },
          "metadata": {}
        }
      ]
    },
    {
      "cell_type": "markdown",
      "metadata": {
        "id": "c2dc24f7"
      },
      "source": [
        "**Reasoning**:\n",
        "The task is to load the data and display the first few rows to understand its structure.\n",
        "\n"
      ]
    }
  ]
}